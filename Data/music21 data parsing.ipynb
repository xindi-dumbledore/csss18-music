{
 "cells": [
  {
   "cell_type": "markdown",
   "metadata": {},
   "source": [
    "# Using music21 to parse MIDI data"
   ]
  },
  {
   "cell_type": "code",
   "execution_count": 3,
   "metadata": {},
   "outputs": [],
   "source": [
    "from music21 import *"
   ]
  },
  {
   "cell_type": "markdown",
   "metadata": {},
   "source": [
    "Let's start with a piece Ave Maria..."
   ]
  },
  {
   "cell_type": "code",
   "execution_count": null,
   "metadata": {},
   "outputs": [],
   "source": [
    "sBach = converter.parse(\"MIDI_Archive/Classical_Greatest/Bach/AveMaria.mid\")\n",
    "sBach.show() #for this to work, you have to install a software called musescore"
   ]
  },
  {
   "cell_type": "markdown",
   "metadata": {},
   "source": [
    "We can also play it!"
   ]
  },
  {
   "cell_type": "code",
   "execution_count": null,
   "metadata": {},
   "outputs": [],
   "source": [
    "sBach.show('midi')"
   ]
  },
  {
   "cell_type": "markdown",
   "metadata": {},
   "source": [
    "# Extract MIDI sequence"
   ]
  },
  {
   "cell_type": "markdown",
   "metadata": {},
   "source": [
    "To make a network, we want to extract the MIDI sequence for different parts. After piece is parsed, you can access different parts using piece.parts, and for each part p, p.notesAndRests would access the notes (or chords, aka notes happening together) and rests in the sequence, and secondsMap will provide the information of not only the note pitch, but also when it starts and when it ends."
   ]
  },
  {
   "cell_type": "code",
   "execution_count": 4,
   "metadata": {},
   "outputs": [],
   "source": [
    "def quantify_music(piece):\n",
    "    midi_dict = {}\n",
    "    time_dict = {}\n",
    "    key = piece.analyze('key').name # tell us the key of the piece (eg. F major, C minor)\n",
    "    for i, p in enumerate(piece.parts):\n",
    "        part_midi = []\n",
    "        time = []\n",
    "        for n in p.notesAndRests.secondsMap: # secondsMap would include not only the note, but also the time information\n",
    "            start = n['offsetSeconds']\n",
    "            end = n['endTimeSeconds']\n",
    "            time.append((start, end))\n",
    "            element = n['element']\n",
    "            try:\n",
    "                part_midi.append(element.pitch.midi)\n",
    "            except:\n",
    "                try:\n",
    "                    part_midi.append([item.midi for item in element.pitches])\n",
    "                except:\n",
    "                    part_midi.append(128) # coding rest as 128\n",
    "        midi_dict[i] = part_midi\n",
    "        time_dict[i] = time\n",
    "    return key, midi_dict, time_dict"
   ]
  },
  {
   "cell_type": "code",
   "execution_count": 10,
   "metadata": {},
   "outputs": [],
   "source": [
    "key, midi_dict, time_dict = quantify_music(sBach)"
   ]
  },
  {
   "cell_type": "markdown",
   "metadata": {},
   "source": [
    "# Extract the whole corpus"
   ]
  },
  {
   "cell_type": "markdown",
   "metadata": {},
   "source": [
    "## Get all the midi file name under this directory (including subdirectory)"
   ]
  },
  {
   "cell_type": "code",
   "execution_count": 6,
   "metadata": {},
   "outputs": [],
   "source": [
    "import os\n",
    "from glob import glob\n",
    "midis = []\n",
    "start_dir = \"MIDI_Archive/Classical_Greatest\"\n",
    "pattern   = \"*.mid\"\n",
    "for dir,_,_ in os.walk(start_dir):\n",
    "    midis.extend(glob(os.path.join(dir,pattern))) "
   ]
  },
  {
   "cell_type": "code",
   "execution_count": 7,
   "metadata": {},
   "outputs": [
    {
     "data": {
      "text/plain": [
       "3912"
      ]
     },
     "execution_count": 7,
     "metadata": {},
     "output_type": "execute_result"
    }
   ],
   "source": [
    "len(midis)"
   ]
  },
  {
   "cell_type": "code",
   "execution_count": 8,
   "metadata": {},
   "outputs": [
    {
     "name": "stdout",
     "output_type": "stream",
     "text": [
      "yes\n"
     ]
    }
   ],
   "source": [
    "import json\n",
    "midi_corpus = {}\n",
    "count = 0\n",
    "ind = 0\n",
    "failed_midi = []\n",
    "for midi in midis:\n",
    "    try:\n",
    "        piece = converter.parse(midi)\n",
    "        key, midi_dict, duration_dict = quantify_music(piece)\n",
    "        midi_corpus[midi.split(start_dir)[1].split('.mid')[0]] = [key, midi_dict, duration_dict]\n",
    "        count+=1\n",
    "    except:\n",
    "        failed_midi.append(midi)\n",
    "    if count > 200:\n",
    "        json.dump(midi_corpus, open(\"midi_corpus_%s.json\"%ind,'w'),indent = 4)\n",
    "        ind +=1 \n",
    "        count = 0\n",
    "        break # I just extract the first 200 for now"
   ]
  },
  {
   "cell_type": "code",
   "execution_count": null,
   "metadata": {},
   "outputs": [],
   "source": []
  }
 ],
 "metadata": {
  "kernelspec": {
   "display_name": "Python 3",
   "language": "python",
   "name": "python3"
  },
  "language_info": {
   "codemirror_mode": {
    "name": "ipython",
    "version": 3
   },
   "file_extension": ".py",
   "mimetype": "text/x-python",
   "name": "python",
   "nbconvert_exporter": "python",
   "pygments_lexer": "ipython3",
   "version": "3.6.4"
  }
 },
 "nbformat": 4,
 "nbformat_minor": 2
}
