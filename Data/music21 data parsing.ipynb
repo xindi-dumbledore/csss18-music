{
 "cells": [
  {
   "cell_type": "markdown",
   "metadata": {},
   "source": [
    "# Using music21 to parse MIDI data"
   ]
  },
  {
   "cell_type": "code",
   "execution_count": 1,
   "metadata": {},
   "outputs": [],
   "source": [
    "from music21 import *"
   ]
  },
  {
   "cell_type": "markdown",
   "metadata": {},
   "source": [
    "Let's start with a piece Ave Maria..."
   ]
  },
  {
   "cell_type": "code",
   "execution_count": 2,
   "metadata": {},
   "outputs": [],
   "source": [
    "sBach = converter.parse(\"MIDI_Archive/Classical_Greatest/Bach/AveMaria.mid\")\n",
    "# sBach.show() #for this to work, you have to install a software called musescore"
   ]
  },
  {
   "cell_type": "markdown",
   "metadata": {},
   "source": [
    "We can also play it!"
   ]
  },
  {
   "cell_type": "code",
   "execution_count": 3,
   "metadata": {},
   "outputs": [
    {
     "data": {
      "text/html": [
       "\n",
       "                <div id='midiPlayerDiv6477'></div>\n",
       "                <link rel=\"stylesheet\" href=\"//cuthbertLab.github.io/music21j/css/m21.css\"\n",
       "                    type=\"text/css\" />\n",
       "                <script>\n",
       "                require.config({\n",
       "                    paths: {'music21': '//cuthbertLab.github.io/music21j/src/music21'}\n",
       "                });\n",
       "                require(['music21'], function() {\n",
       "                               mp = new music21.miditools.MidiPlayer();\n",
       "                               mp.addPlayer('#midiPlayerDiv6477');\n",
       "                               mp.base64Load('data:audio/midi;base64,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');\n",
       "                        });\n",
       "                </script>"
      ],
      "text/plain": [
       "<IPython.core.display.HTML object>"
      ]
     },
     "metadata": {},
     "output_type": "display_data"
    }
   ],
   "source": [
    "sBach.show('midi')"
   ]
  },
  {
   "cell_type": "markdown",
   "metadata": {},
   "source": [
    "# Extract MIDI sequence"
   ]
  },
  {
   "cell_type": "markdown",
   "metadata": {},
   "source": [
    "To make a network, we want to extract the MIDI sequence for different parts. After piece is parsed, you can access different parts using piece.parts, and for each part p, p.notesAndRests would access the notes (or chords, aka notes happening together) and rests in the sequence, and secondsMap will provide the information of not only the note pitch, but also when it starts and when it ends.\n",
    "\n",
    "However, there are rests that is not legit (those who didn't actually show in the sheet music) and notes with duration 0. We also probably want to keep track of very long rest, since that means a new sentence has begun. Therefore, we do a second round on the music piece, in order to filter notes that is shorter than a threhold and mark rest longer than a threshold."
   ]
  },
  {
   "cell_type": "code",
   "execution_count": 17,
   "metadata": {},
   "outputs": [],
   "source": [
    "def quantify_music(piece):\n",
    "    from collections import defaultdict\n",
    "    # first pass of the music, not removing notes and rests that is not reasonable\n",
    "    midi_dict = {}\n",
    "    time_dict = {}\n",
    "    key = piece.analyze('key').name # tell us the key of the piece (eg. F major, C minor)\n",
    "    duration_notes = []\n",
    "    for i, p in enumerate(piece.parts):\n",
    "        part_midi = []\n",
    "        time = []\n",
    "        for n in p.flat.notesAndRests.secondsMap: # secondsMap would include not only the note, but also the time information\n",
    "            start = n['offsetSeconds']\n",
    "            end = n['endTimeSeconds']\n",
    "            time.append((start, end))\n",
    "            element = n['element']\n",
    "            try:\n",
    "                part_midi.append(element.pitch.midi)\n",
    "                if (end-start)!=0.0:\n",
    "                    duration_notes.append((end-start))\n",
    "            except:\n",
    "                try:\n",
    "                    part_midi.append([item.midi for item in element.pitches])\n",
    "                except:\n",
    "                    part_midi.append(128) # coding rest as 128\n",
    "        midi_dict[i] = part_midi\n",
    "        time_dict[i] = time\n",
    "    # Indentify short rest and long rest\n",
    "    midi_dict_prune = defaultdict(list)\n",
    "    time_dict_prune = defaultdict(list)\n",
    "    min_threshold = min(duration_notes)\n",
    "    max_threshold = max(duration_notes)\n",
    "#     print(min_threshold, max_threshold)\n",
    "    for p in time_dict:\n",
    "        for note, (start, end) in zip(midi_dict[p], time_dict[p]):\n",
    "            if note!=128:\n",
    "                midi_dict_prune[p].append(note)\n",
    "                time_dict_prune[p].append((start, end))\n",
    "            else:\n",
    "                if end-start >= min_threshold:\n",
    "                    if end-start > max_threshold:\n",
    "                        midi_dict_prune[p].append(129)\n",
    "                        time_dict_prune[p].append((start, end))\n",
    "                    else:\n",
    "                        midi_dict_prune[p].append(128)\n",
    "                        time_dict_prune[p].append((start, end))\n",
    "    return key, midi_dict_prune, time_dict_prune"
   ]
  },
  {
   "cell_type": "code",
   "execution_count": null,
   "metadata": {},
   "outputs": [],
   "source": [
    "sMozart = converter.parse(\"MIDI_Archive/Classical_Greatest/Mozart/K527 Overture ''Don Giovanni''.mid\")"
   ]
  },
  {
   "cell_type": "code",
   "execution_count": null,
   "metadata": {},
   "outputs": [],
   "source": [
    "key, midi_dict, time_dict = quantify_music(sMozart)"
   ]
  },
  {
   "cell_type": "markdown",
   "metadata": {},
   "source": [
    "# Extract the whole corpus"
   ]
  },
  {
   "cell_type": "markdown",
   "metadata": {},
   "source": [
    "## Get all the midi file name under this directory (including subdirectory)"
   ]
  },
  {
   "cell_type": "code",
   "execution_count": 27,
   "metadata": {},
   "outputs": [],
   "source": [
    "import os\n",
    "from glob import glob\n",
    "import random\n",
    "midis = []\n",
    "start_dir1 = \"MIDI_Archive/Classical_Greatest\"\n",
    "start_dir2 = \"MIDI_Archive/Jazz\"\n",
    "start_dir3 = \"MIDI_Archive/Metal_Rock\"\n",
    "start_dir4 = \"MIDI_Archive/american_folk\"\n",
    "\n",
    "def walk_dir(start_dir):\n",
    "    midis = []\n",
    "    pattern   = \"*.mid\"\n",
    "    for dir,_,_ in os.walk(start_dir):\n",
    "        midis.extend(glob(os.path.join(dir,pattern))) \n",
    "    return midis\n",
    "\n",
    "midis = random.sample(walk_dir(start_dir1), 50) + random.sample(walk_dir(start_dir2), 50) + random.sample(walk_dir(start_dir3), 50) + random.sample(walk_dir(start_dir4), 50)"
   ]
  },
  {
   "cell_type": "code",
   "execution_count": 28,
   "metadata": {},
   "outputs": [
    {
     "data": {
      "text/plain": [
       "200"
      ]
     },
     "execution_count": 28,
     "metadata": {},
     "output_type": "execute_result"
    }
   ],
   "source": [
    "len(midis)"
   ]
  },
  {
   "cell_type": "code",
   "execution_count": 29,
   "metadata": {},
   "outputs": [],
   "source": [
    "import json\n",
    "midi_corpus = {}\n",
    "count = 0\n",
    "ind = 0\n",
    "failed_midi = []\n",
    "for midi in midis:\n",
    "    try:\n",
    "        piece = converter.parse(midi)\n",
    "        key, midi_dict, duration_dict = quantify_music(piece)\n",
    "        midi_corpus[midi.split(\"MIDI_Archive/\")[1].split('.mid')[0].replace('/',' ')] = [key, midi_dict, duration_dict]\n",
    "        count+=1\n",
    "    except:\n",
    "        print(\"here\")\n",
    "        failed_midi.append(midi)\n",
    "json.dump(midi_corpus, open(\"midi_corpus_%s.json\"%ind,'w'),indent = 4)"
   ]
  },
  {
   "cell_type": "code",
   "execution_count": 26,
   "metadata": {},
   "outputs": [
    {
     "data": {
      "text/plain": [
       "[]"
      ]
     },
     "execution_count": 26,
     "metadata": {},
     "output_type": "execute_result"
    }
   ],
   "source": [
    "failed_midi"
   ]
  },
  {
   "cell_type": "code",
   "execution_count": 24,
   "metadata": {},
   "outputs": [
    {
     "ename": "NameError",
     "evalue": "name 'time_dict' is not defined",
     "output_type": "error",
     "traceback": [
      "\u001b[0;31m---------------------------------------------------------------------------\u001b[0m",
      "\u001b[0;31mNameError\u001b[0m                                 Traceback (most recent call last)",
      "\u001b[0;32m<ipython-input-24-381fc0bb249d>\u001b[0m in \u001b[0;36m<module>\u001b[0;34m()\u001b[0m\n\u001b[1;32m      1\u001b[0m \u001b[0mpiece\u001b[0m \u001b[0;34m=\u001b[0m \u001b[0mconverter\u001b[0m\u001b[0;34m.\u001b[0m\u001b[0mparse\u001b[0m\u001b[0;34m(\u001b[0m\u001b[0mfailed_midi\u001b[0m\u001b[0;34m[\u001b[0m\u001b[0;36m0\u001b[0m\u001b[0;34m]\u001b[0m\u001b[0;34m)\u001b[0m\u001b[0;34m\u001b[0m\u001b[0m\n\u001b[1;32m      2\u001b[0m \u001b[0mkey\u001b[0m\u001b[0;34m,\u001b[0m \u001b[0mmidi_dict\u001b[0m\u001b[0;34m,\u001b[0m \u001b[0mduration_dict\u001b[0m \u001b[0;34m=\u001b[0m \u001b[0mquantify_music\u001b[0m\u001b[0;34m(\u001b[0m\u001b[0mpiece\u001b[0m\u001b[0;34m)\u001b[0m\u001b[0;34m\u001b[0m\u001b[0m\n\u001b[0;32m----> 3\u001b[0;31m \u001b[0mmidi_corpus\u001b[0m\u001b[0;34m[\u001b[0m\u001b[0mmidi\u001b[0m\u001b[0;34m.\u001b[0m\u001b[0msplit\u001b[0m\u001b[0;34m(\u001b[0m\u001b[0;34m\"MIDI_Archive/\"\u001b[0m\u001b[0;34m)\u001b[0m\u001b[0;34m[\u001b[0m\u001b[0;36m1\u001b[0m\u001b[0;34m]\u001b[0m\u001b[0;34m.\u001b[0m\u001b[0msplit\u001b[0m\u001b[0;34m(\u001b[0m\u001b[0;34m'.mid'\u001b[0m\u001b[0;34m)\u001b[0m\u001b[0;34m[\u001b[0m\u001b[0;36m0\u001b[0m\u001b[0;34m]\u001b[0m\u001b[0;34m.\u001b[0m\u001b[0mreplace\u001b[0m\u001b[0;34m(\u001b[0m\u001b[0;34m'/'\u001b[0m\u001b[0;34m,\u001b[0m\u001b[0;34m' '\u001b[0m\u001b[0;34m)\u001b[0m\u001b[0;34m]\u001b[0m \u001b[0;34m=\u001b[0m \u001b[0;34m[\u001b[0m\u001b[0mkey\u001b[0m\u001b[0;34m,\u001b[0m \u001b[0mmidi_dict\u001b[0m\u001b[0;34m,\u001b[0m \u001b[0mtime_dict\u001b[0m\u001b[0;34m]\u001b[0m\u001b[0;34m\u001b[0m\u001b[0m\n\u001b[0m",
      "\u001b[0;31mNameError\u001b[0m: name 'time_dict' is not defined"
     ]
    }
   ],
   "source": [
    "piece = converter.parse(failed_midi[0])\n",
    "key, midi_dict, duration_dict = quantify_music(piece)\n",
    "midi_corpus[midi.split(\"MIDI_Archive/\")[1].split('.mid')[0].replace('/',' ')] = [key, midi_dict, duration_dict]"
   ]
  },
  {
   "cell_type": "code",
   "execution_count": null,
   "metadata": {},
   "outputs": [],
   "source": [
    "list(piece.parts[1].notesAndRests)"
   ]
  },
  {
   "cell_type": "markdown",
   "metadata": {},
   "source": [
    "# Simple network generation (one order)"
   ]
  },
  {
   "cell_type": "code",
   "execution_count": null,
   "metadata": {},
   "outputs": [],
   "source": [
    "import pickle\n",
    "for each_piece in midi_corpus:\n",
    "    from collections import Counter\n",
    "    for each_part in midi_corpus[each_piece][1]:\n",
    "        edges = []\n",
    "        sequence = midi_corpus[each_piece][1][each_part]\n",
    "        sequence = [item if type(item)!=list else min(item) for item in sequence]\n",
    "        edges = list(zip(sequence[:-1], sequence[1:]))\n",
    "        edges_with_weight = dict(Counter(edges))\n",
    "        pickle.dump(edges_with_weight, open(\"Simple Network/%s %s.pickle\"%(each_piece[1:].replace('/',' '), each_part), \"wb\"))"
   ]
  },
  {
   "cell_type": "code",
   "execution_count": null,
   "metadata": {},
   "outputs": [],
   "source": []
  }
 ],
 "metadata": {
  "kernelspec": {
   "display_name": "Python 3",
   "language": "python",
   "name": "python3"
  },
  "language_info": {
   "codemirror_mode": {
    "name": "ipython",
    "version": 3
   },
   "file_extension": ".py",
   "mimetype": "text/x-python",
   "name": "python",
   "nbconvert_exporter": "python",
   "pygments_lexer": "ipython3",
   "version": "3.6.4"
  }
 },
 "nbformat": 4,
 "nbformat_minor": 2
}
