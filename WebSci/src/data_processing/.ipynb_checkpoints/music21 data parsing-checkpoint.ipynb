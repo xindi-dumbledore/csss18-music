{
 "cells": [
  {
   "cell_type": "markdown",
   "metadata": {},
   "source": [
    "# Using music21 to parse MIDI data"
   ]
  },
  {
   "cell_type": "code",
   "execution_count": 1,
   "metadata": {},
   "outputs": [],
   "source": [
    "from music21 import *"
   ]
  },
  {
   "cell_type": "markdown",
   "metadata": {},
   "source": [
    "Let's start with a piece Ave Maria..."
   ]
  },
  {
   "cell_type": "code",
   "execution_count": 2,
   "metadata": {},
   "outputs": [],
   "source": [
    "sBach = converter.parse(\"MIDI_Archive/Classical_Greatest/Bach/AveMaria.mid\")\n",
    "# sBach.show() #for this to work, you have to install a software called musescore"
   ]
  },
  {
   "cell_type": "markdown",
   "metadata": {},
   "source": [
    "We can also play it!"
   ]
  },
  {
   "cell_type": "code",
   "execution_count": 3,
   "metadata": {},
   "outputs": [
    {
     "data": {
      "text/html": [
       "\n",
       "                <div id='midiPlayerDiv8120'></div>\n",
       "                <link rel=\"stylesheet\" href=\"//cuthbertLab.github.io/music21j/css/m21.css\"\n",
       "                    type=\"text/css\" />\n",
       "                <script>\n",
       "                require.config({\n",
       "                    paths: {'music21': '//cuthbertLab.github.io/music21j/src/music21'}\n",
       "                });\n",
       "                require(['music21'], function() {\n",
       "                               mp = new music21.miditools.MidiPlayer();\n",
       "                               mp.addPlayer('#midiPlayerDiv8120');\n",
       "                               mp.base64Load('data:audio/midi;base64,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');\n",
       "                        });\n",
       "                </script>"
      ],
      "text/plain": [
       "<IPython.core.display.HTML object>"
      ]
     },
     "metadata": {},
     "output_type": "display_data"
    }
   ],
   "source": [
    "sBach.show('midi')"
   ]
  },
  {
   "cell_type": "markdown",
   "metadata": {},
   "source": [
    "# Extract MIDI sequence"
   ]
  },
  {
   "cell_type": "markdown",
   "metadata": {},
   "source": [
    "To make a network, we want to extract the MIDI sequence for different parts. After piece is parsed, you can access different parts using piece.parts, and for each part p, p.notesAndRests would access the notes (or chords, aka notes happening together) and rests in the sequence, and secondsMap will provide the information of not only the note pitch, but also when it starts and when it ends.\n",
    "\n",
    "However, there are rests that is not legit (those who didn't actually show in the sheet music) and notes with duration 0. We also probably want to keep track of very long rest, since that means a new sentence has begun. Therefore, we do a second round on the music piece, in order to filter notes that is shorter than a threhold and mark rest longer than a threshold."
   ]
  },
  {
   "cell_type": "code",
   "execution_count": 2,
   "metadata": {},
   "outputs": [],
   "source": [
    "def quantify_music(piece):\n",
    "    from collections import defaultdict\n",
    "    # first pass of the music, not removing notes and rests that is not reasonable\n",
    "    midi_dict = {}\n",
    "    time_dict = {}\n",
    "    key = piece.analyze('key').name # tell us the key of the piece (eg. F major, C minor)\n",
    "    duration_notes = []\n",
    "    for i, p in enumerate(piece.parts):\n",
    "        part_midi = []\n",
    "        time = []\n",
    "        for n in p.flat.notesAndRests.secondsMap: # secondsMap would include not only the note, but also the time information\n",
    "            start = n['offsetSeconds']\n",
    "            end = n['endTimeSeconds']\n",
    "            time.append((start, end))\n",
    "            element = n['element']\n",
    "            try:\n",
    "                part_midi.append(element.pitch.midi)\n",
    "                if (end-start)!=0.0:\n",
    "                    duration_notes.append((end-start))\n",
    "            except:\n",
    "                try:\n",
    "                    part_midi.append([item.midi for item in element.pitches])\n",
    "                except:\n",
    "                    part_midi.append(128) # coding rest as 128\n",
    "        midi_dict[i] = part_midi\n",
    "        time_dict[i] = time\n",
    "    # Indentify short rest and long rest\n",
    "    midi_dict_prune = defaultdict(list)\n",
    "    time_dict_prune = defaultdict(list)\n",
    "    min_threshold = min(duration_notes)\n",
    "    max_threshold = max(duration_notes)\n",
    "#     print(min_threshold, max_threshold)\n",
    "    for p in time_dict:\n",
    "        for note, (start, end) in zip(midi_dict[p], time_dict[p]):\n",
    "            if note!=128:\n",
    "                midi_dict_prune[p].append(note)\n",
    "                time_dict_prune[p].append((start, end))\n",
    "            else:\n",
    "                if end-start >= min_threshold:\n",
    "                    if end-start > max_threshold:\n",
    "                        midi_dict_prune[p].append(129)\n",
    "                        time_dict_prune[p].append((start, end))\n",
    "                    else:\n",
    "                        midi_dict_prune[p].append(128)\n",
    "                        time_dict_prune[p].append((start, end))\n",
    "    return key, midi_dict_prune, time_dict_prune"
   ]
  },
  {
   "cell_type": "code",
   "execution_count": 5,
   "metadata": {},
   "outputs": [
    {
     "ename": "KeyboardInterrupt",
     "evalue": "",
     "output_type": "error",
     "traceback": [
      "\u001b[0;31m-------------------------------------------------------------------\u001b[0m",
      "\u001b[0;31mKeyboardInterrupt\u001b[0m                 Traceback (most recent call last)",
      "\u001b[0;32m<ipython-input-5-237d31579ac6>\u001b[0m in \u001b[0;36m<module>\u001b[0;34m()\u001b[0m\n\u001b[0;32m----> 1\u001b[0;31m \u001b[0msMozart\u001b[0m \u001b[0;34m=\u001b[0m \u001b[0mconverter\u001b[0m\u001b[0;34m.\u001b[0m\u001b[0mparse\u001b[0m\u001b[0;34m(\u001b[0m\u001b[0;34m\"MIDI_Archive/Classical_Greatest/Mozart/K527 Overture ''Don Giovanni''.mid\"\u001b[0m\u001b[0;34m)\u001b[0m\u001b[0;34m\u001b[0m\u001b[0m\n\u001b[0m",
      "\u001b[0;32m/anaconda3/lib/python3.6/site-packages/music21/converter/__init__.py\u001b[0m in \u001b[0;36mparse\u001b[0;34m(value, *args, **keywords)\u001b[0m\n\u001b[1;32m   1121\u001b[0m     \u001b[0;32melif\u001b[0m \u001b[0;32mnot\u001b[0m \u001b[0misinstance\u001b[0m\u001b[0;34m(\u001b[0m\u001b[0mvalue\u001b[0m\u001b[0;34m,\u001b[0m \u001b[0mbytes\u001b[0m\u001b[0;34m)\u001b[0m \u001b[0;32mand\u001b[0m \u001b[0mos\u001b[0m\u001b[0;34m.\u001b[0m\u001b[0mpath\u001b[0m\u001b[0;34m.\u001b[0m\u001b[0mexists\u001b[0m\u001b[0;34m(\u001b[0m\u001b[0mvalueStr\u001b[0m\u001b[0;34m)\u001b[0m\u001b[0;34m:\u001b[0m\u001b[0;34m\u001b[0m\u001b[0m\n\u001b[1;32m   1122\u001b[0m         return parseFile(valueStr, number=number, format=m21Format,\n\u001b[0;32m-> 1123\u001b[0;31m                          forceSource=forceSource, **keywords)\n\u001b[0m\u001b[1;32m   1124\u001b[0m     \u001b[0;32melif\u001b[0m \u001b[0;32mnot\u001b[0m \u001b[0misinstance\u001b[0m\u001b[0;34m(\u001b[0m\u001b[0mvalue\u001b[0m\u001b[0;34m,\u001b[0m \u001b[0mbytes\u001b[0m\u001b[0;34m)\u001b[0m \u001b[0;32mand\u001b[0m \u001b[0mos\u001b[0m\u001b[0;34m.\u001b[0m\u001b[0mpath\u001b[0m\u001b[0;34m.\u001b[0m\u001b[0mexists\u001b[0m\u001b[0;34m(\u001b[0m\u001b[0mcommon\u001b[0m\u001b[0;34m.\u001b[0m\u001b[0mcleanpath\u001b[0m\u001b[0;34m(\u001b[0m\u001b[0mvalueStr\u001b[0m\u001b[0;34m)\u001b[0m\u001b[0;34m)\u001b[0m\u001b[0;34m:\u001b[0m\u001b[0;34m\u001b[0m\u001b[0m\n\u001b[1;32m   1125\u001b[0m         return parseFile(common.cleanpath(valueStr), number=number, format=m21Format,\n",
      "\u001b[0;32m/anaconda3/lib/python3.6/site-packages/music21/converter/__init__.py\u001b[0m in \u001b[0;36mparseFile\u001b[0;34m(fp, number, format, forceSource, **keywords)\u001b[0m\n\u001b[1;32m   1001\u001b[0m     \u001b[0mv\u001b[0m \u001b[0;34m=\u001b[0m \u001b[0mConverter\u001b[0m\u001b[0;34m(\u001b[0m\u001b[0;34m)\u001b[0m\u001b[0;34m\u001b[0m\u001b[0m\n\u001b[1;32m   1002\u001b[0m     \u001b[0mfp\u001b[0m \u001b[0;34m=\u001b[0m \u001b[0mcommon\u001b[0m\u001b[0;34m.\u001b[0m\u001b[0mcleanpath\u001b[0m\u001b[0;34m(\u001b[0m\u001b[0mfp\u001b[0m\u001b[0;34m,\u001b[0m \u001b[0mreturnPathlib\u001b[0m\u001b[0;34m=\u001b[0m\u001b[0;32mTrue\u001b[0m\u001b[0;34m)\u001b[0m\u001b[0;34m\u001b[0m\u001b[0m\n\u001b[0;32m-> 1003\u001b[0;31m     \u001b[0mv\u001b[0m\u001b[0;34m.\u001b[0m\u001b[0mparseFile\u001b[0m\u001b[0;34m(\u001b[0m\u001b[0mfp\u001b[0m\u001b[0;34m,\u001b[0m \u001b[0mnumber\u001b[0m\u001b[0;34m=\u001b[0m\u001b[0mnumber\u001b[0m\u001b[0;34m,\u001b[0m \u001b[0mformat\u001b[0m\u001b[0;34m=\u001b[0m\u001b[0mformat\u001b[0m\u001b[0;34m,\u001b[0m \u001b[0mforceSource\u001b[0m\u001b[0;34m=\u001b[0m\u001b[0mforceSource\u001b[0m\u001b[0;34m,\u001b[0m \u001b[0;34m**\u001b[0m\u001b[0mkeywords\u001b[0m\u001b[0;34m)\u001b[0m\u001b[0;34m\u001b[0m\u001b[0m\n\u001b[0m\u001b[1;32m   1004\u001b[0m     \u001b[0;32mreturn\u001b[0m \u001b[0mv\u001b[0m\u001b[0;34m.\u001b[0m\u001b[0mstream\u001b[0m\u001b[0;34m\u001b[0m\u001b[0m\n\u001b[1;32m   1005\u001b[0m \u001b[0;34m\u001b[0m\u001b[0m\n",
      "\u001b[0;32m/anaconda3/lib/python3.6/site-packages/music21/converter/__init__.py\u001b[0m in \u001b[0;36mparseFile\u001b[0;34m(self, fp, number, format, forceSource, storePickle, **keywords)\u001b[0m\n\u001b[1;32m    540\u001b[0m         \u001b[0;32melse\u001b[0m\u001b[0;34m:\u001b[0m\u001b[0;34m\u001b[0m\u001b[0m\n\u001b[1;32m    541\u001b[0m             \u001b[0menvironLocal\u001b[0m\u001b[0;34m.\u001b[0m\u001b[0mprintDebug\u001b[0m\u001b[0;34m(\u001b[0m\u001b[0;34m\"Loading original version\"\u001b[0m\u001b[0;34m)\u001b[0m\u001b[0;34m\u001b[0m\u001b[0m\n\u001b[0;32m--> 542\u001b[0;31m             \u001b[0mself\u001b[0m\u001b[0;34m.\u001b[0m\u001b[0mparseFileNoPickle\u001b[0m\u001b[0;34m(\u001b[0m\u001b[0mfp\u001b[0m\u001b[0;34m,\u001b[0m \u001b[0mnumber\u001b[0m\u001b[0;34m,\u001b[0m \u001b[0mformat\u001b[0m\u001b[0;34m,\u001b[0m \u001b[0mforceSource\u001b[0m\u001b[0;34m,\u001b[0m \u001b[0;34m**\u001b[0m\u001b[0mkeywords\u001b[0m\u001b[0;34m)\u001b[0m\u001b[0;34m\u001b[0m\u001b[0m\n\u001b[0m\u001b[1;32m    543\u001b[0m             \u001b[0;32mif\u001b[0m \u001b[0mwritePickle\u001b[0m \u001b[0;32mis\u001b[0m \u001b[0;32mTrue\u001b[0m \u001b[0;32mand\u001b[0m \u001b[0mfpPickle\u001b[0m \u001b[0;32mis\u001b[0m \u001b[0;32mnot\u001b[0m \u001b[0;32mNone\u001b[0m \u001b[0;32mand\u001b[0m \u001b[0mstorePickle\u001b[0m \u001b[0;32mis\u001b[0m \u001b[0;32mTrue\u001b[0m\u001b[0;34m:\u001b[0m\u001b[0;34m\u001b[0m\u001b[0m\n\u001b[1;32m    544\u001b[0m                 \u001b[0;31m# save the stream to disk...\u001b[0m\u001b[0;34m\u001b[0m\u001b[0;34m\u001b[0m\u001b[0m\n",
      "\u001b[0;32m/anaconda3/lib/python3.6/site-packages/music21/converter/__init__.py\u001b[0m in \u001b[0;36mparseFileNoPickle\u001b[0;34m(self, fp, number, format, forceSource, **keywords)\u001b[0m\n\u001b[1;32m    475\u001b[0m         \u001b[0mself\u001b[0m\u001b[0;34m.\u001b[0m\u001b[0msubConverter\u001b[0m\u001b[0;34m.\u001b[0m\u001b[0mkeywords\u001b[0m \u001b[0;34m=\u001b[0m \u001b[0mkeywords\u001b[0m\u001b[0;34m\u001b[0m\u001b[0m\n\u001b[1;32m    476\u001b[0m         \u001b[0;32mtry\u001b[0m\u001b[0;34m:\u001b[0m\u001b[0;34m\u001b[0m\u001b[0m\n\u001b[0;32m--> 477\u001b[0;31m             \u001b[0mself\u001b[0m\u001b[0;34m.\u001b[0m\u001b[0msubConverter\u001b[0m\u001b[0;34m.\u001b[0m\u001b[0mparseFile\u001b[0m\u001b[0;34m(\u001b[0m\u001b[0mfp\u001b[0m\u001b[0;34m,\u001b[0m \u001b[0mnumber\u001b[0m\u001b[0;34m=\u001b[0m\u001b[0mnumber\u001b[0m\u001b[0;34m,\u001b[0m \u001b[0;34m**\u001b[0m\u001b[0mkeywords\u001b[0m\u001b[0;34m)\u001b[0m\u001b[0;34m\u001b[0m\u001b[0m\n\u001b[0m\u001b[1;32m    478\u001b[0m         \u001b[0;32mexcept\u001b[0m \u001b[0mNotImplementedError\u001b[0m\u001b[0;34m:\u001b[0m\u001b[0;34m\u001b[0m\u001b[0m\n\u001b[1;32m    479\u001b[0m             \u001b[0;32mraise\u001b[0m \u001b[0mConverterFileException\u001b[0m\u001b[0;34m(\u001b[0m\u001b[0;34m'File is not in a correct format: %s'\u001b[0m \u001b[0;34m%\u001b[0m \u001b[0mfp\u001b[0m\u001b[0;34m)\u001b[0m\u001b[0;34m\u001b[0m\u001b[0m\n",
      "\u001b[0;32m/anaconda3/lib/python3.6/site-packages/music21/converter/subConverters.py\u001b[0m in \u001b[0;36mparseFile\u001b[0;34m(self, fp, number, **keywords)\u001b[0m\n\u001b[1;32m    925\u001b[0m         '''\n\u001b[1;32m    926\u001b[0m         \u001b[0;32mfrom\u001b[0m \u001b[0mmusic21\u001b[0m\u001b[0;34m.\u001b[0m\u001b[0mmidi\u001b[0m \u001b[0;32mimport\u001b[0m \u001b[0mtranslate\u001b[0m \u001b[0;32mas\u001b[0m \u001b[0mmidiTranslate\u001b[0m\u001b[0;34m\u001b[0m\u001b[0m\n\u001b[0;32m--> 927\u001b[0;31m         \u001b[0mmidiTranslate\u001b[0m\u001b[0;34m.\u001b[0m\u001b[0mmidiFilePathToStream\u001b[0m\u001b[0;34m(\u001b[0m\u001b[0mfp\u001b[0m\u001b[0;34m,\u001b[0m \u001b[0mself\u001b[0m\u001b[0;34m.\u001b[0m\u001b[0mstream\u001b[0m\u001b[0;34m,\u001b[0m \u001b[0;34m**\u001b[0m\u001b[0mkeywords\u001b[0m\u001b[0;34m)\u001b[0m\u001b[0;34m\u001b[0m\u001b[0m\n\u001b[0m\u001b[1;32m    928\u001b[0m \u001b[0;34m\u001b[0m\u001b[0m\n\u001b[1;32m    929\u001b[0m     \u001b[0;32mdef\u001b[0m \u001b[0mwrite\u001b[0m\u001b[0;34m(\u001b[0m\u001b[0mself\u001b[0m\u001b[0;34m,\u001b[0m \u001b[0mobj\u001b[0m\u001b[0;34m,\u001b[0m \u001b[0mfmt\u001b[0m\u001b[0;34m,\u001b[0m \u001b[0mfp\u001b[0m\u001b[0;34m=\u001b[0m\u001b[0;32mNone\u001b[0m\u001b[0;34m,\u001b[0m \u001b[0msubformats\u001b[0m\u001b[0;34m=\u001b[0m\u001b[0;32mNone\u001b[0m\u001b[0;34m,\u001b[0m \u001b[0;34m**\u001b[0m\u001b[0mkeywords\u001b[0m\u001b[0;34m)\u001b[0m\u001b[0;34m:\u001b[0m \u001b[0;31m# pragma: no cover\u001b[0m\u001b[0;34m\u001b[0m\u001b[0m\n",
      "\u001b[0;32m/anaconda3/lib/python3.6/site-packages/music21/midi/translate.py\u001b[0m in \u001b[0;36mmidiFilePathToStream\u001b[0;34m(filePath, inputM21, **keywords)\u001b[0m\n\u001b[1;32m   1971\u001b[0m     \u001b[0mmf\u001b[0m\u001b[0;34m.\u001b[0m\u001b[0mread\u001b[0m\u001b[0;34m(\u001b[0m\u001b[0;34m)\u001b[0m\u001b[0;34m\u001b[0m\u001b[0m\n\u001b[1;32m   1972\u001b[0m     \u001b[0mmf\u001b[0m\u001b[0;34m.\u001b[0m\u001b[0mclose\u001b[0m\u001b[0;34m(\u001b[0m\u001b[0;34m)\u001b[0m\u001b[0;34m\u001b[0m\u001b[0m\n\u001b[0;32m-> 1973\u001b[0;31m     \u001b[0;32mreturn\u001b[0m \u001b[0mmidiFileToStream\u001b[0m\u001b[0;34m(\u001b[0m\u001b[0mmf\u001b[0m\u001b[0;34m,\u001b[0m \u001b[0minputM21\u001b[0m\u001b[0;34m,\u001b[0m \u001b[0;34m**\u001b[0m\u001b[0mkeywords\u001b[0m\u001b[0;34m)\u001b[0m\u001b[0;34m\u001b[0m\u001b[0m\n\u001b[0m\u001b[1;32m   1974\u001b[0m \u001b[0;34m\u001b[0m\u001b[0m\n\u001b[1;32m   1975\u001b[0m \u001b[0;34m\u001b[0m\u001b[0m\n",
      "\u001b[0;32m/anaconda3/lib/python3.6/site-packages/music21/midi/translate.py\u001b[0m in \u001b[0;36mmidiFileToStream\u001b[0;34m(mf, inputM21, quantizePost, **keywords)\u001b[0m\n\u001b[1;32m   2111\u001b[0m                             \u001b[0mquantizePost\u001b[0m\u001b[0;34m=\u001b[0m\u001b[0mquantizePost\u001b[0m\u001b[0;34m,\u001b[0m\u001b[0;34m\u001b[0m\u001b[0m\n\u001b[1;32m   2112\u001b[0m                             \u001b[0minputM21\u001b[0m\u001b[0;34m=\u001b[0m\u001b[0ms\u001b[0m\u001b[0;34m,\u001b[0m\u001b[0;34m\u001b[0m\u001b[0m\n\u001b[0;32m-> 2113\u001b[0;31m                             **keywords)\n\u001b[0m\u001b[1;32m   2114\u001b[0m         \u001b[0;31m#s._setMidiTracks(mf.tracks, mf.ticksPerQuarterNote)\u001b[0m\u001b[0;34m\u001b[0m\u001b[0;34m\u001b[0m\u001b[0m\n\u001b[1;32m   2115\u001b[0m \u001b[0;34m\u001b[0m\u001b[0m\n",
      "\u001b[0;32m/anaconda3/lib/python3.6/site-packages/music21/midi/translate.py\u001b[0m in \u001b[0;36mmidiTracksToStreams\u001b[0;34m(midiTracks, ticksPerQuarter, quantizePost, inputM21, **keywords)\u001b[0m\n\u001b[1;32m   1874\u001b[0m                               \u001b[0mquantizePost\u001b[0m\u001b[0;34m,\u001b[0m\u001b[0;34m\u001b[0m\u001b[0m\n\u001b[1;32m   1875\u001b[0m                               \u001b[0minputM21\u001b[0m\u001b[0;34m=\u001b[0m\u001b[0mstreamPart\u001b[0m\u001b[0;34m,\u001b[0m\u001b[0;34m\u001b[0m\u001b[0m\n\u001b[0;32m-> 1876\u001b[0;31m                               **keywords)\n\u001b[0m\u001b[1;32m   1877\u001b[0m \u001b[0;31m#             streamPart._setMidiTracksPart(mt,\u001b[0m\u001b[0;34m\u001b[0m\u001b[0;34m\u001b[0m\u001b[0m\n\u001b[1;32m   1878\u001b[0m \u001b[0;31m#                 ticksPerQuarter=ticksPerQuarter, quantizePost=quantizePost)\u001b[0m\u001b[0;34m\u001b[0m\u001b[0;34m\u001b[0m\u001b[0m\n",
      "\u001b[0;32m/anaconda3/lib/python3.6/site-packages/music21/midi/translate.py\u001b[0m in \u001b[0;36mmidiTrackToStream\u001b[0;34m(mt, ticksPerQuarter, quantizePost, inputM21, **keywords)\u001b[0m\n\u001b[1;32m   1658\u001b[0m     \u001b[0;32melse\u001b[0m\u001b[0;34m:\u001b[0m\u001b[0;34m\u001b[0m\u001b[0m\n\u001b[1;32m   1659\u001b[0m         \u001b[0;31m# always need to fill gaps, as rests are not found in any other way\u001b[0m\u001b[0;34m\u001b[0m\u001b[0;34m\u001b[0m\u001b[0m\n\u001b[0;32m-> 1660\u001b[0;31m         \u001b[0ms\u001b[0m\u001b[0;34m.\u001b[0m\u001b[0mmakeRests\u001b[0m\u001b[0;34m(\u001b[0m\u001b[0minPlace\u001b[0m\u001b[0;34m=\u001b[0m\u001b[0;32mTrue\u001b[0m\u001b[0;34m,\u001b[0m \u001b[0mfillGaps\u001b[0m\u001b[0;34m=\u001b[0m\u001b[0;32mTrue\u001b[0m\u001b[0;34m)\u001b[0m\u001b[0;34m\u001b[0m\u001b[0m\n\u001b[0m\u001b[1;32m   1661\u001b[0m     \u001b[0;32mreturn\u001b[0m \u001b[0ms\u001b[0m\u001b[0;34m\u001b[0m\u001b[0m\n\u001b[1;32m   1662\u001b[0m \u001b[0;34m\u001b[0m\u001b[0m\n",
      "\u001b[0;32m/anaconda3/lib/python3.6/site-packages/music21/stream/__init__.py\u001b[0m in \u001b[0;36mmakeRests\u001b[0;34m(self, refStreamOrTimeRange, fillGaps, timeRangeFromBarDuration, inPlace, hideRests)\u001b[0m\n\u001b[1;32m   5593\u001b[0m             \u001b[0mtimeRangeFromBarDuration\u001b[0m\u001b[0;34m=\u001b[0m\u001b[0mtimeRangeFromBarDuration\u001b[0m\u001b[0;34m,\u001b[0m\u001b[0;34m\u001b[0m\u001b[0m\n\u001b[1;32m   5594\u001b[0m             \u001b[0minPlace\u001b[0m\u001b[0;34m=\u001b[0m\u001b[0minPlace\u001b[0m\u001b[0;34m,\u001b[0m\u001b[0;34m\u001b[0m\u001b[0m\n\u001b[0;32m-> 5595\u001b[0;31m             \u001b[0mhideRests\u001b[0m\u001b[0;34m=\u001b[0m\u001b[0mhideRests\u001b[0m\u001b[0;34m,\u001b[0m\u001b[0;34m\u001b[0m\u001b[0m\n\u001b[0m\u001b[1;32m   5596\u001b[0m             )\n\u001b[1;32m   5597\u001b[0m \u001b[0;34m\u001b[0m\u001b[0m\n",
      "\u001b[0;32m/anaconda3/lib/python3.6/site-packages/music21/stream/makeNotation.py\u001b[0m in \u001b[0;36mmakeRests\u001b[0;34m(s, refStreamOrTimeRange, fillGaps, timeRangeFromBarDuration, inPlace, hideRests)\u001b[0m\n\u001b[1;32m    814\u001b[0m \u001b[0;34m\u001b[0m\u001b[0m\n\u001b[1;32m    815\u001b[0m         \u001b[0;32mif\u001b[0m \u001b[0mfillGaps\u001b[0m\u001b[0;34m:\u001b[0m\u001b[0;34m\u001b[0m\u001b[0m\n\u001b[0;32m--> 816\u001b[0;31m             \u001b[0mgapStream\u001b[0m \u001b[0;34m=\u001b[0m \u001b[0mv\u001b[0m\u001b[0;34m.\u001b[0m\u001b[0mfindGaps\u001b[0m\u001b[0;34m(\u001b[0m\u001b[0;34m)\u001b[0m\u001b[0;34m\u001b[0m\u001b[0m\n\u001b[0m\u001b[1;32m    817\u001b[0m             \u001b[0;32mif\u001b[0m \u001b[0mgapStream\u001b[0m \u001b[0;32mis\u001b[0m \u001b[0;32mnot\u001b[0m \u001b[0;32mNone\u001b[0m\u001b[0;34m:\u001b[0m\u001b[0;34m\u001b[0m\u001b[0m\n\u001b[1;32m    818\u001b[0m                 \u001b[0;32mfor\u001b[0m \u001b[0me\u001b[0m \u001b[0;32min\u001b[0m \u001b[0mgapStream\u001b[0m\u001b[0;34m:\u001b[0m\u001b[0;34m\u001b[0m\u001b[0m\n",
      "\u001b[0;32m/anaconda3/lib/python3.6/site-packages/music21/stream/__init__.py\u001b[0m in \u001b[0;36mfindGaps\u001b[0;34m(self)\u001b[0m\n\u001b[1;32m   9232\u001b[0m                 \u001b[0mgapElement\u001b[0m\u001b[0;34m.\u001b[0m\u001b[0mduration\u001b[0m \u001b[0;34m=\u001b[0m \u001b[0mduration\u001b[0m\u001b[0;34m.\u001b[0m\u001b[0mDuration\u001b[0m\u001b[0;34m(\u001b[0m\u001b[0;34m)\u001b[0m\u001b[0;34m\u001b[0m\u001b[0m\n\u001b[1;32m   9233\u001b[0m                 \u001b[0mgapElement\u001b[0m\u001b[0;34m.\u001b[0m\u001b[0mduration\u001b[0m\u001b[0;34m.\u001b[0m\u001b[0mquarterLength\u001b[0m \u001b[0;34m=\u001b[0m \u001b[0mgapQuarterLength\u001b[0m\u001b[0;34m\u001b[0m\u001b[0m\n\u001b[0;32m-> 9234\u001b[0;31m                 \u001b[0mgapStream\u001b[0m\u001b[0;34m.\u001b[0m\u001b[0minsert\u001b[0m\u001b[0;34m(\u001b[0m\u001b[0mhighestCurrentEndTime\u001b[0m\u001b[0;34m,\u001b[0m \u001b[0mgapElement\u001b[0m\u001b[0;34m)\u001b[0m\u001b[0;34m\u001b[0m\u001b[0m\n\u001b[0m\u001b[1;32m   9235\u001b[0m             \u001b[0;32mif\u001b[0m \u001b[0mhasattr\u001b[0m\u001b[0;34m(\u001b[0m\u001b[0me\u001b[0m\u001b[0;34m,\u001b[0m \u001b[0;34m'duration'\u001b[0m\u001b[0;34m)\u001b[0m \u001b[0;32mand\u001b[0m \u001b[0me\u001b[0m\u001b[0;34m.\u001b[0m\u001b[0mduration\u001b[0m \u001b[0;32mis\u001b[0m \u001b[0;32mnot\u001b[0m \u001b[0;32mNone\u001b[0m\u001b[0;34m:\u001b[0m\u001b[0;34m\u001b[0m\u001b[0m\n\u001b[1;32m   9236\u001b[0m                 \u001b[0meDur\u001b[0m \u001b[0;34m=\u001b[0m \u001b[0me\u001b[0m\u001b[0;34m.\u001b[0m\u001b[0mduration\u001b[0m\u001b[0;34m.\u001b[0m\u001b[0mquarterLength\u001b[0m\u001b[0;34m\u001b[0m\u001b[0m\n",
      "\u001b[0;32m/anaconda3/lib/python3.6/site-packages/music21/stream/__init__.py\u001b[0m in \u001b[0;36minsert\u001b[0;34m(self, offsetOrItemOrList, itemOrNone, ignoreSort, setActiveSite)\u001b[0m\n\u001b[1;32m   1703\u001b[0m \u001b[0;34m\u001b[0m\u001b[0m\n\u001b[1;32m   1704\u001b[0m         storeSorted = self.coreInsert(offset, element,\n\u001b[0;32m-> 1705\u001b[0;31m                      ignoreSort=ignoreSort, setActiveSite=setActiveSite)\n\u001b[0m\u001b[1;32m   1706\u001b[0m         \u001b[0mupdateIsFlat\u001b[0m \u001b[0;34m=\u001b[0m \u001b[0;32mFalse\u001b[0m\u001b[0;34m\u001b[0m\u001b[0m\n\u001b[1;32m   1707\u001b[0m         \u001b[0;32mif\u001b[0m \u001b[0melement\u001b[0m\u001b[0;34m.\u001b[0m\u001b[0misStream\u001b[0m\u001b[0;34m:\u001b[0m\u001b[0;34m\u001b[0m\u001b[0m\n",
      "\u001b[0;32m/anaconda3/lib/python3.6/site-packages/music21/stream/core.py\u001b[0m in \u001b[0;36mcoreInsert\u001b[0;34m(self, offset, element, ignoreSort, setActiveSite)\u001b[0m\n\u001b[1;32m     79\u001b[0m \u001b[0;31m#                storeSorted = True\u001b[0m\u001b[0;34m\u001b[0m\u001b[0;34m\u001b[0m\u001b[0m\n\u001b[1;32m     80\u001b[0m             \u001b[0;32mif\u001b[0m \u001b[0mself\u001b[0m\u001b[0;34m.\u001b[0m\u001b[0misSorted\u001b[0m \u001b[0;32mis\u001b[0m \u001b[0;32mTrue\u001b[0m\u001b[0;34m:\u001b[0m\u001b[0;34m\u001b[0m\u001b[0m\n\u001b[0;32m---> 81\u001b[0;31m                 \u001b[0mht\u001b[0m \u001b[0;34m=\u001b[0m \u001b[0mself\u001b[0m\u001b[0;34m.\u001b[0m\u001b[0mhighestTime\u001b[0m\u001b[0;34m\u001b[0m\u001b[0m\n\u001b[0m\u001b[1;32m     82\u001b[0m                 \u001b[0;32mif\u001b[0m \u001b[0mht\u001b[0m \u001b[0;34m<\u001b[0m \u001b[0moffset\u001b[0m\u001b[0;34m:\u001b[0m\u001b[0;34m\u001b[0m\u001b[0m\n\u001b[1;32m     83\u001b[0m                     \u001b[0mstoreSorted\u001b[0m \u001b[0;34m=\u001b[0m \u001b[0;32mTrue\u001b[0m\u001b[0;34m\u001b[0m\u001b[0m\n",
      "\u001b[0;32m/anaconda3/lib/python3.6/site-packages/music21/stream/__init__.py\u001b[0m in \u001b[0;36mhighestTime\u001b[0;34m(self)\u001b[0m\n\u001b[1;32m   7122\u001b[0m                     \u001b[0;31m#print(self, e, id(e), e.offset, e.getSites())\u001b[0m\u001b[0;34m\u001b[0m\u001b[0;34m\u001b[0m\u001b[0m\n\u001b[1;32m   7123\u001b[0m                     \u001b[0;32mraise\u001b[0m\u001b[0;34m\u001b[0m\u001b[0m\n\u001b[0;32m-> 7124\u001b[0;31m                 \u001b[0;32mif\u001b[0m \u001b[0mcandidateOffset\u001b[0m \u001b[0;34m>\u001b[0m \u001b[0mhighestTimeSoFar\u001b[0m\u001b[0;34m:\u001b[0m\u001b[0;34m\u001b[0m\u001b[0m\n\u001b[0m\u001b[1;32m   7125\u001b[0m                     \u001b[0mhighestTimeSoFar\u001b[0m \u001b[0;34m=\u001b[0m \u001b[0mcandidateOffset\u001b[0m\u001b[0;34m\u001b[0m\u001b[0m\n\u001b[1;32m   7126\u001b[0m             \u001b[0mself\u001b[0m\u001b[0;34m.\u001b[0m\u001b[0m_cache\u001b[0m\u001b[0;34m[\u001b[0m\u001b[0;34m\"HighestTime\"\u001b[0m\u001b[0;34m]\u001b[0m \u001b[0;34m=\u001b[0m \u001b[0mfloat\u001b[0m\u001b[0;34m(\u001b[0m\u001b[0mhighestTimeSoFar\u001b[0m\u001b[0;34m)\u001b[0m\u001b[0;34m\u001b[0m\u001b[0m\n",
      "\u001b[0;32m/anaconda3/lib/python3.6/fractions.py\u001b[0m in \u001b[0;36m__lt__\u001b[0;34m(a, b)\u001b[0m\n\u001b[1;32m    610\u001b[0m     \u001b[0;32mdef\u001b[0m \u001b[0m__lt__\u001b[0m\u001b[0;34m(\u001b[0m\u001b[0ma\u001b[0m\u001b[0;34m,\u001b[0m \u001b[0mb\u001b[0m\u001b[0;34m)\u001b[0m\u001b[0;34m:\u001b[0m\u001b[0;34m\u001b[0m\u001b[0m\n\u001b[1;32m    611\u001b[0m         \u001b[0;34m\"\"\"a < b\"\"\"\u001b[0m\u001b[0;34m\u001b[0m\u001b[0m\n\u001b[0;32m--> 612\u001b[0;31m         \u001b[0;32mreturn\u001b[0m \u001b[0ma\u001b[0m\u001b[0;34m.\u001b[0m\u001b[0m_richcmp\u001b[0m\u001b[0;34m(\u001b[0m\u001b[0mb\u001b[0m\u001b[0;34m,\u001b[0m \u001b[0moperator\u001b[0m\u001b[0;34m.\u001b[0m\u001b[0mlt\u001b[0m\u001b[0;34m)\u001b[0m\u001b[0;34m\u001b[0m\u001b[0m\n\u001b[0m\u001b[1;32m    613\u001b[0m \u001b[0;34m\u001b[0m\u001b[0m\n\u001b[1;32m    614\u001b[0m     \u001b[0;32mdef\u001b[0m \u001b[0m__gt__\u001b[0m\u001b[0;34m(\u001b[0m\u001b[0ma\u001b[0m\u001b[0;34m,\u001b[0m \u001b[0mb\u001b[0m\u001b[0;34m)\u001b[0m\u001b[0;34m:\u001b[0m\u001b[0;34m\u001b[0m\u001b[0m\n",
      "\u001b[0;32m/anaconda3/lib/python3.6/fractions.py\u001b[0m in \u001b[0;36m_richcmp\u001b[0;34m(self, other, op)\u001b[0m\n\u001b[1;32m    604\u001b[0m                 \u001b[0;32mreturn\u001b[0m \u001b[0mop\u001b[0m\u001b[0;34m(\u001b[0m\u001b[0;36m0.0\u001b[0m\u001b[0;34m,\u001b[0m \u001b[0mother\u001b[0m\u001b[0;34m)\u001b[0m\u001b[0;34m\u001b[0m\u001b[0m\n\u001b[1;32m    605\u001b[0m             \u001b[0;32melse\u001b[0m\u001b[0;34m:\u001b[0m\u001b[0;34m\u001b[0m\u001b[0m\n\u001b[0;32m--> 606\u001b[0;31m                 \u001b[0;32mreturn\u001b[0m \u001b[0mop\u001b[0m\u001b[0;34m(\u001b[0m\u001b[0mself\u001b[0m\u001b[0;34m,\u001b[0m \u001b[0mself\u001b[0m\u001b[0;34m.\u001b[0m\u001b[0mfrom_float\u001b[0m\u001b[0;34m(\u001b[0m\u001b[0mother\u001b[0m\u001b[0;34m)\u001b[0m\u001b[0;34m)\u001b[0m\u001b[0;34m\u001b[0m\u001b[0m\n\u001b[0m\u001b[1;32m    607\u001b[0m         \u001b[0;32melse\u001b[0m\u001b[0;34m:\u001b[0m\u001b[0;34m\u001b[0m\u001b[0m\n\u001b[1;32m    608\u001b[0m             \u001b[0;32mreturn\u001b[0m \u001b[0mNotImplemented\u001b[0m\u001b[0;34m\u001b[0m\u001b[0m\n",
      "\u001b[0;32m/anaconda3/lib/python3.6/fractions.py\u001b[0m in \u001b[0;36m__lt__\u001b[0;34m(a, b)\u001b[0m\n\u001b[1;32m    610\u001b[0m     \u001b[0;32mdef\u001b[0m \u001b[0m__lt__\u001b[0m\u001b[0;34m(\u001b[0m\u001b[0ma\u001b[0m\u001b[0;34m,\u001b[0m \u001b[0mb\u001b[0m\u001b[0;34m)\u001b[0m\u001b[0;34m:\u001b[0m\u001b[0;34m\u001b[0m\u001b[0m\n\u001b[1;32m    611\u001b[0m         \u001b[0;34m\"\"\"a < b\"\"\"\u001b[0m\u001b[0;34m\u001b[0m\u001b[0m\n\u001b[0;32m--> 612\u001b[0;31m         \u001b[0;32mreturn\u001b[0m \u001b[0ma\u001b[0m\u001b[0;34m.\u001b[0m\u001b[0m_richcmp\u001b[0m\u001b[0;34m(\u001b[0m\u001b[0mb\u001b[0m\u001b[0;34m,\u001b[0m \u001b[0moperator\u001b[0m\u001b[0;34m.\u001b[0m\u001b[0mlt\u001b[0m\u001b[0;34m)\u001b[0m\u001b[0;34m\u001b[0m\u001b[0m\n\u001b[0m\u001b[1;32m    613\u001b[0m \u001b[0;34m\u001b[0m\u001b[0m\n\u001b[1;32m    614\u001b[0m     \u001b[0;32mdef\u001b[0m \u001b[0m__gt__\u001b[0m\u001b[0;34m(\u001b[0m\u001b[0ma\u001b[0m\u001b[0;34m,\u001b[0m \u001b[0mb\u001b[0m\u001b[0;34m)\u001b[0m\u001b[0;34m:\u001b[0m\u001b[0;34m\u001b[0m\u001b[0m\n",
      "\u001b[0;32m/anaconda3/lib/python3.6/fractions.py\u001b[0m in \u001b[0;36m_richcmp\u001b[0;34m(self, other, op)\u001b[0m\n\u001b[1;32m    597\u001b[0m         \"\"\"\n\u001b[1;32m    598\u001b[0m         \u001b[0;31m# convert other to a Rational instance where reasonable.\u001b[0m\u001b[0;34m\u001b[0m\u001b[0;34m\u001b[0m\u001b[0m\n\u001b[0;32m--> 599\u001b[0;31m         \u001b[0;32mif\u001b[0m \u001b[0misinstance\u001b[0m\u001b[0;34m(\u001b[0m\u001b[0mother\u001b[0m\u001b[0;34m,\u001b[0m \u001b[0mnumbers\u001b[0m\u001b[0;34m.\u001b[0m\u001b[0mRational\u001b[0m\u001b[0;34m)\u001b[0m\u001b[0;34m:\u001b[0m\u001b[0;34m\u001b[0m\u001b[0m\n\u001b[0m\u001b[1;32m    600\u001b[0m             return op(self._numerator * other.denominator,\n\u001b[1;32m    601\u001b[0m                       self._denominator * other.numerator)\n",
      "\u001b[0;31mKeyboardInterrupt\u001b[0m: "
     ]
    }
   ],
   "source": [
    "sMozart = converter.parse(\"MIDI_Archive/Classical_Greatest/Mozart/K527 Overture ''Don Giovanni''.mid\")"
   ]
  },
  {
   "cell_type": "code",
   "execution_count": 6,
   "metadata": {},
   "outputs": [
    {
     "name": "stdout",
     "output_type": "stream",
     "text": [
      "2.05 s ± 319 ms per loop (mean ± std. dev. of 7 runs, 1 loop each)\n"
     ]
    }
   ],
   "source": [
    "%timeit key, midi_dict, time_dict = quantify_music(sMozart)"
   ]
  },
  {
   "cell_type": "code",
   "execution_count": 6,
   "metadata": {},
   "outputs": [],
   "source": [
    "sBeatles = converter.parse(\"MIDI_Archive/Beatles/Beatles_Blackbird.mid\")"
   ]
  },
  {
   "cell_type": "code",
   "execution_count": 7,
   "metadata": {},
   "outputs": [],
   "source": [
    "key, midi_dict, time_dict = quantify_music(sBeatles)"
   ]
  },
  {
   "cell_type": "code",
   "execution_count": 8,
   "metadata": {},
   "outputs": [
    {
     "data": {
      "text/plain": [
       "6"
      ]
     },
     "execution_count": 8,
     "metadata": {},
     "output_type": "execute_result"
    }
   ],
   "source": [
    "len(midi_dict)"
   ]
  },
  {
   "cell_type": "markdown",
   "metadata": {},
   "source": [
    "# Extract the whole corpus"
   ]
  },
  {
   "cell_type": "markdown",
   "metadata": {},
   "source": [
    "## Get all the midi file name under this directory (including subdirectory)"
   ]
  },
  {
   "cell_type": "code",
   "execution_count": 3,
   "metadata": {},
   "outputs": [],
   "source": [
    "import os\n",
    "from glob import glob\n",
    "import random\n",
    "midis = []\n",
    "start_dir1 = \"../../dataset/midi/\"\n",
    "#start_dir2 = \"MIDI_Archive/Jazz\"\n",
    "#start_dir3 = \"MIDI_Archive/Metal_Rock\"\n",
    "#start_dir4 = \"MIDI_Archive/american_folk\"\n",
    "\n",
    "def walk_dir(start_dir):\n",
    "    midis = []\n",
    "    pattern   = \"*.mid\"\n",
    "    for dir,_,_ in os.walk(start_dir):\n",
    "        midis.extend(glob(os.path.join(dir,pattern))) \n",
    "    return midis\n",
    "\n",
    "midis = walk_dir(start_dir1)\n",
    "#midis = walk_dir(start_dir1) + walk_dir(start_dir2) + walk_dir(start_dir3) + walk_dir(start_dir4)\n",
    "#midis = random.sample(walk_dir(start_dir1), 10)\n",
    "# random.sample(walk_dir(start_dir2), 50) + \n",
    "# random.sample(walk_dir(start_dir3), 50) + \n",
    "# random.sample(walk_dir(start_dir4), 50)"
   ]
  },
  {
   "cell_type": "code",
   "execution_count": 4,
   "metadata": {},
   "outputs": [
    {
     "data": {
      "text/plain": [
       "45129"
      ]
     },
     "execution_count": 4,
     "metadata": {},
     "output_type": "execute_result"
    }
   ],
   "source": [
    "len(midis)"
   ]
  },
  {
   "cell_type": "code",
   "execution_count": null,
   "metadata": {},
   "outputs": [
    {
     "name": "stdout",
     "output_type": "stream",
     "text": [
      "failed: ../../dataset/midi/69ab8697eb22b3c3dd0439d7546382fe.mid\n",
      "failed: ../../dataset/midi/321d1c5f7afe08aaf196d2d0f23164a8.mid\n",
      "failed: ../../dataset/midi/cccdc75525a7962269b0973c1ed993dd.mid\n",
      "failed: ../../dataset/midi/23f7af1f08bc322d66556831265a556f.mid\n",
      "failed: ../../dataset/midi/e58d485bcad6ef75f5cbc2826aa23170.mid\n",
      "failed: ../../dataset/midi/93cb6e40788e60d65a89045394d3a42d.mid\n",
      "failed: ../../dataset/midi/e0027ee77ffdbe7293f47a4690792c84.mid\n",
      "failed: ../../dataset/midi/449e5619fe20213165bc57af74755d8c.mid\n",
      "failed: ../../dataset/midi/e8824ac3b15d9588a53eb779a54a50dd.mid\n",
      "failed: ../../dataset/midi/7e111ba414653c3fe7278045f8c181fb.mid\n",
      "failed: ../../dataset/midi/361d6a1e62a298d29bfd32529daed630.mid\n",
      "failed: ../../dataset/midi/10d393fe16bc9c600312b3dae16e7725.mid\n",
      "failed: ../../dataset/midi/90a6c2bf6cd22c93f85d688ed45f7594.mid\n",
      "failed: ../../dataset/midi/71225f8f0c59f72c9aec9ced11452bf3.mid\n",
      "failed: ../../dataset/midi/f55e5e66b1f270716a7d8ecf56e8cf0a.mid\n",
      "failed: ../../dataset/midi/ceb116de1d5cc1556b01488c7eb519a4.mid\n",
      "failed: ../../dataset/midi/72e25a7cb8e5b6ee6ea653aead810dee.mid\n",
      "failed: ../../dataset/midi/d86dd9a5780185b273447331a518a9e6.mid\n",
      "failed: ../../dataset/midi/d2a48abdca09fc748166b278c49191ab.mid\n",
      "failed: ../../dataset/midi/0e1af878dd77345228b7655038d5de4f.mid\n",
      "failed: ../../dataset/midi/32626f94bee27908700f2fb621059e31.mid\n",
      "failed: ../../dataset/midi/3b567552bef29d154aa725b8a402a57c.mid\n",
      "failed: ../../dataset/midi/eb680c8bd22efa26ac9ca92ce1f770ef.mid\n",
      "failed: ../../dataset/midi/db22b87a11c61bd7b255a37a191afdf9.mid\n",
      "failed: ../../dataset/midi/efd7ee3d8fcdaaa7dcfd580cf99464c6.mid\n",
      "failed: ../../dataset/midi/63846c9ada20a1e574ea94a5819b27a4.mid\n",
      "failed: ../../dataset/midi/5b51cca60534bbe34b608e4109d081ef.mid\n",
      "failed: ../../dataset/midi/795d5ffb84b0cd0470418c22b347f75c.mid\n",
      "failed: ../../dataset/midi/cfe7cbcdd6f8f4cbc2000a0c59a142fa.mid\n",
      "failed: ../../dataset/midi/cccecde90fab412dc1f4293cd87e5b07.mid\n",
      "failed: ../../dataset/midi/623432de7e9b5aac4764411ebf4b2227.mid\n",
      "failed: ../../dataset/midi/9fbc43dc8434bcaf2902f54d28bbb535.mid\n",
      "failed: ../../dataset/midi/eca2ebe45577aea11d43c7b9ad2557db.mid\n",
      "failed: ../../dataset/midi/5da770c99c0b16d8e12a054a9c4d2e72.mid\n",
      "failed: ../../dataset/midi/001344339e5b6a6bf1bc16d70b7f91a2.mid\n",
      "failed: ../../dataset/midi/306d5b7260b8e3d3f4daef79afe16b81.mid\n",
      "failed: ../../dataset/midi/68da8d2139339aa3bf0fe1e46460cf04.mid\n",
      "failed: ../../dataset/midi/9c37605c9ba32ae95b395337a00196e1.mid\n",
      "failed: ../../dataset/midi/6380ffb0689a5738e3acc2b6864e0cf3.mid\n",
      "failed: ../../dataset/midi/c4a522456362408e5398decd7b035493.mid\n",
      "failed: ../../dataset/midi/34258509e9bfdbe64cf8fd5e10130811.mid\n",
      "failed: ../../dataset/midi/9cd24cd149837cd669f70c1821e44a4b.mid\n",
      "failed: ../../dataset/midi/88424341195c2a06e27d3f7a483d4d0f.mid\n",
      "failed: ../../dataset/midi/3ceed526e58e8b8cd1d78a50191c9753.mid\n",
      "failed: ../../dataset/midi/93d6559e81f009d1f0026ebf9ee0bb55.mid\n",
      "failed: ../../dataset/midi/43ebf7c316353469903697033f3f5a8d.mid\n",
      "failed: ../../dataset/midi/b785e342b9df158c3b7a2d9d92befea4.mid\n",
      "failed: ../../dataset/midi/0e42ea006ed689e3c009aacf8ac73f43.mid\n",
      "failed: ../../dataset/midi/0d6c082a500853ad25149bf405a61e06.mid\n",
      "failed: ../../dataset/midi/81b047ce544783a3992584cbca8dadc2.mid\n",
      "failed: ../../dataset/midi/8914c4833e23cd65b81a11affbed6fc4.mid\n",
      "failed: ../../dataset/midi/e46b1d07d7765f41fb162a4ba49e7d72.mid\n",
      "failed: ../../dataset/midi/5e9e500be252faa9b2b64e5380cd9b64.mid\n",
      "failed: ../../dataset/midi/cf81f8f0565801dba1e0b33089f98b4d.mid\n",
      "failed: ../../dataset/midi/5f4477f105fa55974ad0680d67f283dc.mid\n",
      "failed: ../../dataset/midi/9f76d7d1c884950cc0412650b909c406.mid\n",
      "failed: ../../dataset/midi/16464a0c72b66928e7311c13524ab6e6.mid\n",
      "failed: ../../dataset/midi/00d6cafd141c8c7df21962f3f85e960c.mid\n",
      "failed: ../../dataset/midi/a43367dcd66d9baac67f9e0b4470d324.mid\n",
      "failed: ../../dataset/midi/fe1e7c04cb1b1df994095f9d88aaff4f.mid\n",
      "failed: ../../dataset/midi/7738ed68311328f86e2ee2febef75b1b.mid\n",
      "failed: ../../dataset/midi/ae9883762e38738327a2a95b291c6669.mid\n",
      "failed: ../../dataset/midi/154d97bc65ae569d05f227afd9e86898.mid\n",
      "failed: ../../dataset/midi/a053711e70ed91fe630c563a668177ea.mid\n",
      "failed: ../../dataset/midi/b129a0cf5abe499ee6c1347464883d6b.mid\n",
      "failed: ../../dataset/midi/7bda1790a64c461e8c92025822842e85.mid\n",
      "failed: ../../dataset/midi/e896aafbf307d8145cecf79502635652.mid\n",
      "failed: ../../dataset/midi/4c0291c74573eea7c434602599e9cc04.mid\n",
      "failed: ../../dataset/midi/e60a15106d432d68816103eb47bb8ed8.mid\n",
      "failed: ../../dataset/midi/1a577e15ebd466a7e88285c90dfc0209.mid\n",
      "failed: ../../dataset/midi/9f8642893db5f42e91b3c6dabfc6327d.mid\n",
      "failed: ../../dataset/midi/fb83ad95c91f5b2bcd5c78f7e6e33283.mid\n",
      "failed: ../../dataset/midi/a54a82f89953ea2ca1725f121417aa72.mid\n",
      "failed: ../../dataset/midi/087c95a1c1a54a46f053cc515a0367bf.mid\n",
      "failed: ../../dataset/midi/9c921816489a21f24b7b8c2d27df497d.mid\n",
      "failed: ../../dataset/midi/576ea5820eb86f6c8d279ac719d75838.mid\n",
      "failed: ../../dataset/midi/f4880e398f550d91975c172da359432d.mid\n",
      "failed: ../../dataset/midi/181541005cfd0ebf759b270a96bfe6f2.mid\n",
      "failed: ../../dataset/midi/d8eb7c766a73831bf6cfa1f3a41ef27b.mid\n",
      "failed: ../../dataset/midi/55ed3c755ea7adef943c659314c7748e.mid\n",
      "failed: ../../dataset/midi/a73661ab15d3890237c97ff1ea49c3db.mid\n",
      "failed: ../../dataset/midi/d84ab27a1a334b5d6f5b2d4d75bbce4f.mid\n",
      "failed: ../../dataset/midi/36c8c63e8c1f0117f2e2045e5b3ddb23.mid\n",
      "failed: ../../dataset/midi/28408273ed43771caea5dfb4c0b37792.mid\n",
      "failed: ../../dataset/midi/ccc454da874772d0de175a138c1513f6.mid\n",
      "failed: ../../dataset/midi/e2d4cdbbb6fe11229a4e319ef46b98e5.mid\n",
      "failed: ../../dataset/midi/ee364fa63ae42f2265f2a66ac96232e6.mid\n",
      "failed: ../../dataset/midi/f8c882f472936c374b8da8e0d04ce694.mid\n",
      "failed: ../../dataset/midi/8ea369d2f5d730e6caa2c609212cca0f.mid\n",
      "failed: ../../dataset/midi/2eec44fda7b47a1f5f57d880c1c86418.mid\n",
      "failed: ../../dataset/midi/6dc33997cca3cb1adcd7fbb3bd5caf10.mid\n",
      "failed: ../../dataset/midi/012b6d1e63b25fc7cb94e37fac074419.mid\n",
      "failed: ../../dataset/midi/5e85cc5a27d8876831a5ebb7dea6e80a.mid\n",
      "failed: ../../dataset/midi/f8d3f6f2a9fc39f6a56cf704231b35e7.mid\n",
      "failed: ../../dataset/midi/5bb549d3991173e9293c4ef2e01f8d4e.mid\n",
      "failed: ../../dataset/midi/2bf74c39dd3e74d77afd596230888ea8.mid\n",
      "failed: ../../dataset/midi/ef7a2e82233b6975b69d738740c3aa37.mid\n",
      "failed: ../../dataset/midi/9357ab3907c1f42d06a4e9b44ef5d952.mid\n",
      "failed: ../../dataset/midi/31d8c2c9337335d3ea27fc0d89095a5b.mid\n",
      "failed: ../../dataset/midi/259c9715124fbe76c4926264323f988d.mid\n",
      "failed: ../../dataset/midi/fc83fc7ee3a73900da39ab9c4bbf53d8.mid\n",
      "failed: ../../dataset/midi/e78687bf57f6b6fb420f88b89ed5dc13.mid\n",
      "failed: ../../dataset/midi/07dd9556c2202eadc8bdcd145f06b81b.mid\n",
      "failed: ../../dataset/midi/7b41b79e2dea80499c676dba9e15ba69.mid\n",
      "failed: ../../dataset/midi/d009039cfadd75fa7d6f2eeb53c75759.mid\n",
      "failed: ../../dataset/midi/c0e8a1986ce4481d700b0853370bc690.mid\n",
      "failed: ../../dataset/midi/05860388f2b079fe74e6365d41e4a6db.mid\n",
      "failed: ../../dataset/midi/a8442577b7c979a7468e4fd2a5e02bb0.mid\n",
      "failed: ../../dataset/midi/b2c46d530c21b88b7dbf63846bf840dc.mid\n",
      "failed: ../../dataset/midi/d7fce31982f53916678193154fccf4c3.mid\n",
      "failed: ../../dataset/midi/d5261eb877d95a9238608ef2ec82eb7a.mid\n",
      "failed: ../../dataset/midi/3be4e3256abde93e279830bb2745a2bd.mid\n",
      "failed: ../../dataset/midi/2fb230b0827acfa1d0a4a34d0a607fcb.mid\n",
      "failed: ../../dataset/midi/deb4de9af1678edc097d001211b93fbc.mid\n",
      "failed: ../../dataset/midi/f7b39e453ba2f6589e94e841769d07b4.mid\n",
      "failed: ../../dataset/midi/a1885d3def10c70bbc1c89379c206131.mid\n",
      "failed: ../../dataset/midi/2e088897dd264a5e7c9b45581c0efe65.mid\n",
      "failed: ../../dataset/midi/542a866a7700c7792068a9438f034d62.mid\n",
      "failed: ../../dataset/midi/c18212822bd0ecf926079cfa4ec3629d.mid\n",
      "failed: ../../dataset/midi/2e10c61d701093302ec2fe4e865cad53.mid\n",
      "failed: ../../dataset/midi/5a020de75f8b2b157c1e4130620efb2a.mid\n",
      "failed: ../../dataset/midi/ed363f16ddd345b2e981b0a6f55819b0.mid\n",
      "failed: ../../dataset/midi/5f558e2753bba3f1f3d322ab44e0b4bf.mid\n",
      "failed: ../../dataset/midi/af6427a7d29dd9e3498d2a9b2fd388e8.mid\n",
      "failed: ../../dataset/midi/1ac4f9da340c6d76b9c07e26f57707f2.mid\n",
      "failed: ../../dataset/midi/bd131fbdce111cfbb0d6325a0307dfe5.mid\n",
      "failed: ../../dataset/midi/23de869f90083ff362b8c75cf7d785a2.mid\n",
      "failed: ../../dataset/midi/551c43f9418554066282123a6aa13780.mid\n",
      "failed: ../../dataset/midi/98614698e80a84fcf6b5e3ef3fc1a63c.mid\n"
     ]
    },
    {
     "name": "stdout",
     "output_type": "stream",
     "text": [
      "failed: ../../dataset/midi/36d8616d4274ea18413359325ceaf11e.mid\n",
      "failed: ../../dataset/midi/6cfe36761cb4360a32ced939c9bf03f0.mid\n",
      "failed: ../../dataset/midi/b70f7c02289335be6c03ab9c64e9e7cc.mid\n",
      "failed: ../../dataset/midi/71480258445c67246788681e2856a6da.mid\n",
      "failed: ../../dataset/midi/48d8a8cfe243bef88c3e8d4984b2707a.mid\n",
      "failed: ../../dataset/midi/6cbfd12293a501e183c255ed67d7c701.mid\n",
      "failed: ../../dataset/midi/2edd91a24578f82d34e9460d7a31f5e6.mid\n",
      "failed: ../../dataset/midi/18614fcad13f24f2fec52f7f7b27c9b8.mid\n",
      "failed: ../../dataset/midi/aa38b3edf435b40bd3e3ecbd7a78a748.mid\n",
      "failed: ../../dataset/midi/9bdf022dfee62927ca28dbaaa851b8b9.mid\n",
      "failed: ../../dataset/midi/b7e94a44d987ef22398ec6a11086f4fe.mid\n",
      "failed: ../../dataset/midi/4e3308b868d715b37332893e064b8175.mid\n",
      "failed: ../../dataset/midi/e256818c4f2e25068962f4b0452f498c.mid\n",
      "failed: ../../dataset/midi/ace5710ddc324af667ad4472c1f82e15.mid\n",
      "failed: ../../dataset/midi/3f67feebb8f6bbecdffbf7c263fb7df0.mid\n",
      "failed: ../../dataset/midi/c4aed19e9959a65c04a1a6c742d014fe.mid\n",
      "failed: ../../dataset/midi/f787bd0fd18809b438a52d79d96d85df.mid\n",
      "failed: ../../dataset/midi/280fbf48baac495047d59e2c57c6e986.mid\n",
      "failed: ../../dataset/midi/bf75a0f86aab199ddae81188c921fe5f.mid\n",
      "failed: ../../dataset/midi/3a0274ba6e15ad94d7d704f91e328cfa.mid\n",
      "failed: ../../dataset/midi/7977cbeff218ddd7ce3c8c28cb874745.mid\n",
      "failed: ../../dataset/midi/09b570666304556185ef165abdf20935.mid\n",
      "failed: ../../dataset/midi/9e3fee144fe42ada397730236525abbc.mid\n",
      "failed: ../../dataset/midi/f3a751f74510abdc1af33439f723a2fd.mid\n",
      "failed: ../../dataset/midi/d619440d116ca9aea67c6470300e48b3.mid\n",
      "failed: ../../dataset/midi/1c9bf67d1776639205a022234ff17d02.mid\n",
      "failed: ../../dataset/midi/2e29b675bde5aa76bb60977dfa0d0180.mid\n",
      "failed: ../../dataset/midi/bea02ea515ab602016d2e6892798f249.mid\n",
      "failed: ../../dataset/midi/4ce893e4c7dcfb82eb8d669e26dc8c6d.mid\n",
      "failed: ../../dataset/midi/05845b57a77a2352d0699dcfb645b5b9.mid\n",
      "failed: ../../dataset/midi/5d491e364e160becbc9f7dc6cf12b041.mid\n",
      "failed: ../../dataset/midi/36618f53ae43208fa30a782437dc1005.mid\n",
      "failed: ../../dataset/midi/188849c22aefa406346ec6679362e315.mid\n",
      "failed: ../../dataset/midi/3ceef52df82d38cf3501c432fb555f97.mid\n",
      "failed: ../../dataset/midi/efe3efa99094003b66bb5fadf5e9d2cb.mid\n",
      "failed: ../../dataset/midi/0e57e04e0fd3fe14d20ee84612878a1f.mid\n",
      "failed: ../../dataset/midi/3de517babac9b87f0b7df73620bbada7.mid\n",
      "failed: ../../dataset/midi/a250fbd18128bd0110b6b9541b83bfce.mid\n",
      "failed: ../../dataset/midi/6e94d104553f51dc11a7601b5d797e88.mid\n",
      "failed: ../../dataset/midi/353c6de8ae4e341942ba025e44485533.mid\n",
      "failed: ../../dataset/midi/4b021ce40f9b4d80d8cda52f67d6150d.mid\n",
      "failed: ../../dataset/midi/d75c6c5c163f07e4ad1ae01c0b5432dd.mid\n",
      "failed: ../../dataset/midi/ab900c5449cee4d41437fcbc445d4bca.mid\n",
      "failed: ../../dataset/midi/fee8b66a84251e523ba35274fd25c70e.mid\n",
      "failed: ../../dataset/midi/94a36d05c52c2a1862e21a2491b7283c.mid\n",
      "failed: ../../dataset/midi/3af94e33c237092287aa2660a195d64b.mid\n",
      "failed: ../../dataset/midi/7e572cfff4ebc56a417f11dfd7c7b61e.mid\n",
      "failed: ../../dataset/midi/951cdf00e8627649c2f3124d13d4b0f1.mid\n",
      "failed: ../../dataset/midi/7a485925e6c86405ac6f3a8844abb571.mid\n",
      "failed: ../../dataset/midi/bcddf30b7018b090160b34dc96ce5ddd.mid\n",
      "failed: ../../dataset/midi/b314b0f204fc92ac6e3aeba5a05fc32a.mid\n",
      "failed: ../../dataset/midi/7cde197902b3589b9dfb18b51081b90e.mid\n",
      "failed: ../../dataset/midi/75a6ce3543023bcf7d3e03e54f64459e.mid\n",
      "failed: ../../dataset/midi/f6272ab71f5ad21f83a742aaddc9ede4.mid\n",
      "failed: ../../dataset/midi/eb0300b4acbb8c09428e7dd8c7f1cb82.mid\n",
      "failed: ../../dataset/midi/b1a97ae12a7556a522a1477eb530ebd3.mid\n",
      "failed: ../../dataset/midi/d25a248d1a75ee91bd4b381780596a4a.mid\n",
      "failed: ../../dataset/midi/a9b3457a11a68972e4aa252c4212721c.mid\n",
      "failed: ../../dataset/midi/ae875eebd3194304e7671be3ece77d31.mid\n",
      "failed: ../../dataset/midi/d4d3114d7e050fc44e0dc22a907b1ee7.mid\n",
      "failed: ../../dataset/midi/e1e6cb0b3b2bee6cffac7d2114d3a882.mid\n",
      "failed: ../../dataset/midi/0bcd02baf55e9e06c9d7bfe7f4cbf5c5.mid\n",
      "failed: ../../dataset/midi/6f2449ff84e5d27e0e615abc1c68cd51.mid\n",
      "failed: ../../dataset/midi/bb8daaf589f99dab45680e6bab12c6b0.mid\n",
      "failed: ../../dataset/midi/45728feadabd534c34e6adce59946ebf.mid\n",
      "failed: ../../dataset/midi/1d5c1a068c3ada841f015581ad7a728e.mid\n",
      "failed: ../../dataset/midi/e8d5e878077849715283e84a4b4e8039.mid\n",
      "failed: ../../dataset/midi/f88f44f2c2100d01f4bcea956c214bdf.mid\n",
      "failed: ../../dataset/midi/15e4751dcf986b1aec07c46a2bbc825f.mid\n",
      "failed: ../../dataset/midi/a850141909fb1dc48983c48ac0de0d34.mid\n",
      "failed: ../../dataset/midi/e6f48d6865fb996fa94d4d50cbbcd537.mid\n",
      "failed: ../../dataset/midi/da3a5d8e01f64ec6858d382f6a70111e.mid\n",
      "failed: ../../dataset/midi/4d0e080bd66e8b0914a04348fab65178.mid\n",
      "failed: ../../dataset/midi/2f580ce5eeddf0e0ca6c6850317a3950.mid\n",
      "failed: ../../dataset/midi/db5553a13ec9189763563f1ca8d4d682.mid\n",
      "failed: ../../dataset/midi/ef470edf59c0b4bea12c8c218d09d023.mid\n",
      "failed: ../../dataset/midi/452a62d353315adfb4836a100f2145a6.mid\n",
      "failed: ../../dataset/midi/662f863e58980ea34050910567cd02d8.mid\n",
      "failed: ../../dataset/midi/c90e67aa996294bf0482d426e2be1f89.mid\n",
      "failed: ../../dataset/midi/4b7c13ecde3705efec56620d87ca4ba8.mid\n",
      "failed: ../../dataset/midi/5ce36d597797478527ff4cb807fbeed3.mid\n",
      "failed: ../../dataset/midi/0fa43a15fb7d6cf0b244385a27594d3d.mid\n",
      "failed: ../../dataset/midi/68b25d2fc2e63398c7fc49e63a8e9cb1.mid\n",
      "failed: ../../dataset/midi/1fcd5ca855208a5b178411e32fb0bbbf.mid\n",
      "failed: ../../dataset/midi/2b704ff69e022b6239b702da3851754d.mid\n",
      "failed: ../../dataset/midi/7a524c8695cb8979c37350bd8134a8a2.mid\n",
      "failed: ../../dataset/midi/a24e8fefef11737450cc3b42954e716b.mid\n",
      "failed: ../../dataset/midi/e9a19c0ab7c9e284a41c84b4db0c9652.mid\n",
      "failed: ../../dataset/midi/2c476fb89bcfb9e4b1c19b32d4312386.mid\n",
      "failed: ../../dataset/midi/0ded2b585018f5d31a02ef10202c5f5d.mid\n",
      "failed: ../../dataset/midi/3b23f118abadb457f6f2ebbac48783bc.mid\n",
      "failed: ../../dataset/midi/e0d325a692eea1fe77d931f06e8bb3df.mid\n",
      "failed: ../../dataset/midi/0312f8a74443135469aa474dc9b6e93a.mid\n",
      "failed: ../../dataset/midi/637de937cf06c782d9ef7e7b2659eecc.mid\n",
      "failed: ../../dataset/midi/c7d3f4771d540cad3cc150f533f99d3e.mid\n",
      "failed: ../../dataset/midi/e29f5fe0b76f32e6ee1146f4893b8b45.mid\n",
      "failed: ../../dataset/midi/c4515076d55d5ea67cdee08aa4a06b82.mid\n",
      "failed: ../../dataset/midi/ee9737d404127ff97a370ea60812c597.mid\n",
      "failed: ../../dataset/midi/7f58d21386d8d7580f065832fe87b6a0.mid\n",
      "failed: ../../dataset/midi/fa4eedd2cace4d10b1033a924c6b1b36.mid\n",
      "failed: ../../dataset/midi/d358429ad07ce39812b6200d1df0ad26.mid\n",
      "failed: ../../dataset/midi/6caf4aafa22828e29b840b2cde8f973c.mid\n",
      "failed: ../../dataset/midi/e8aaa08fb69b3f1cacf9c202823a6d84.mid\n",
      "failed: ../../dataset/midi/edd509df8f2fd5830840d181520bad85.mid\n",
      "failed: ../../dataset/midi/d40ca640025765793925b872a8ae2df2.mid\n",
      "failed: ../../dataset/midi/30e7ea1c0d9461742f9cd76c36c742c2.mid\n",
      "failed: ../../dataset/midi/3240c6f83295cc0470785f73322be381.mid\n",
      "failed: ../../dataset/midi/9bddcdd5f4a48a3cfff9652595e83826.mid\n",
      "failed: ../../dataset/midi/b4bd841099c18999b0045535ae4c282c.mid\n",
      "failed: ../../dataset/midi/92ac9451b3821c359a4ddb586f2c7569.mid\n",
      "failed: ../../dataset/midi/7d5c2e1b057ccc6d557ecd23c8b3884e.mid\n",
      "failed: ../../dataset/midi/6e774a04956725d20e3819eca8c16a59.mid\n",
      "failed: ../../dataset/midi/cec5c80e5866dadcaf8ff02c67ad29de.mid\n",
      "failed: ../../dataset/midi/d17ab38df6fbf3d7eb6b2e1252c22e9d.mid\n",
      "failed: ../../dataset/midi/86914f335153fdbe37b749d969be7ed3.mid\n",
      "failed: ../../dataset/midi/c7d5ba5175600ce5376be76712481529.mid\n"
     ]
    }
   ],
   "source": [
    "import signal\n",
    "import json\n",
    "midi_corpus = {}\n",
    "count = 0\n",
    "ind = 0\n",
    "failed_midi = []\n",
    "big_midi = []\n",
    "class TimeoutException(Exception):   # Custom exception class\n",
    "    pass\n",
    "\n",
    "def timeout_handler(signum, frame):   # Custom signal handler\n",
    "    raise TimeoutException\n",
    "\n",
    "# Change the behavior of SIGALRM\n",
    "signal.signal(signal.SIGALRM, timeout_handler)\n",
    "\n",
    "for midi in midis:\n",
    "    # Start the timer. Once 10 seconds are over, a SIGALRM signal is sent.\n",
    "    signal.alarm(30)    \n",
    "    # This try/except loop ensures that \n",
    "    #   you'll catch TimeoutException when it's sent.\n",
    "    try:\n",
    "        try:\n",
    "        #if True:\n",
    "            piece = converter.parse(midi)\n",
    "            key, midi_dict, duration_dict = quantify_music(piece)\n",
    "            #midi_corpus[midi.split(\"MIDI_Archive/\")[1].split('.mid')[0].replace('/',' ')] = [key, midi_dict, duration_dict]\n",
    "            fname = midi.split('/')[-1]\n",
    "            fname = fname.split('.')[0]\n",
    "            midi_corpus[fname] = [key, midi_dict, duration_dict]\n",
    "            count+=1\n",
    "        except:\n",
    "            print(\"failed:\",midi)\n",
    "            failed_midi.append(midi)\n",
    "    except TimeoutException:\n",
    "        print(\"big:\",midi)\n",
    "        big_midi.append(midi)\n",
    "        signal.alarm(0)\n",
    "        continue # continue the for loop if function A takes more than 5 second\n",
    "    else:\n",
    "        # Reset the alarm\n",
    "        signal.alarm(0)\n",
    "    if count == 1000:        \n",
    "        json.dump(midi_corpus, open(\"../../dataset/corpus/midi_corpus_%s.json\"%ind,'w'),indent = 4)\n",
    "        midi_corpus = {}\n",
    "        count = 0\n",
    "        ind += 1\n",
    "\n",
    "if len(midi_corupus) > 0:\n",
    "    json.dump(midi_corpus, open(\"../../dataset/corpus/midi_corpus_%s.json\"%ind,'w'),indent = 4)"
   ]
  },
  {
   "cell_type": "code",
   "execution_count": 10,
   "metadata": {},
   "outputs": [
    {
     "data": {
      "text/plain": [
       "8090"
      ]
     },
     "execution_count": 10,
     "metadata": {},
     "output_type": "execute_result"
    }
   ],
   "source": [
    "len(midi_corpus)"
   ]
  },
  {
   "cell_type": "markdown",
   "metadata": {},
   "source": [
    "# Simple network generation (one order)"
   ]
  },
  {
   "cell_type": "code",
   "execution_count": 11,
   "metadata": {},
   "outputs": [],
   "source": [
    "import pickle\n",
    "for each_piece in midi_corpus:\n",
    "    from collections import Counter\n",
    "    for each_part in midi_corpus[each_piece][1]:\n",
    "        edges = []\n",
    "        sequence = midi_corpus[each_piece][1][each_part]\n",
    "        sequence = [item if type(item)!=list else max(item) for item in sequence]\n",
    "        edges = list(zip(sequence[:-1], sequence[1:]))\n",
    "        edges_with_weight = dict(Counter(edges))\n",
    "        pickle.dump(edges_with_weight, open(\"Simple Network/%s %s.pickle\"%(each_piece.replace('/',' '), each_part), \"wb\"))"
   ]
  },
  {
   "cell_type": "code",
   "execution_count": null,
   "metadata": {},
   "outputs": [],
   "source": []
  }
 ],
 "metadata": {
  "kernelspec": {
   "display_name": "Python 3",
   "language": "python",
   "name": "python3"
  },
  "language_info": {
   "codemirror_mode": {
    "name": "ipython",
    "version": 3
   },
   "file_extension": ".py",
   "mimetype": "text/x-python",
   "name": "python",
   "nbconvert_exporter": "python",
   "pygments_lexer": "ipython3",
   "version": "3.7.2"
  }
 },
 "nbformat": 4,
 "nbformat_minor": 2
}
