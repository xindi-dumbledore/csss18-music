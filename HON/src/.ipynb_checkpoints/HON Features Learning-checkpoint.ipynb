{
 "cells": [
  {
   "cell_type": "code",
   "execution_count": 40,
   "metadata": {},
   "outputs": [],
   "source": [
    "from sklearn.ensemble import RandomForestClassifier\n",
    "from sklearn.ensemble import AdaBoostClassifier\n",
    "import pandas as pd\n",
    "from pprint import pprint\n",
    "from sklearn.decomposition import PCA\n",
    "import random\n",
    "import numpy as np\n",
    "from sklearn.metrics.cluster import normalized_mutual_info_score\n",
    "from sklearn import svm\n",
    "from sklearn.metrics import confusion_matrix\n",
    "from sklearn.model_selection import train_test_split\n",
    "from sklearn.model_selection import cross_val_score\n",
    "import seaborn as sns\n",
    "from sklearn.neural_network import MLPClassifier"
   ]
  },
  {
   "cell_type": "markdown",
   "metadata": {},
   "source": [
    "# Data"
   ]
  },
  {
   "cell_type": "code",
   "execution_count": 108,
   "metadata": {},
   "outputs": [],
   "source": [
    "cdata = pd.read_csv('../features/features_larger_rock_jazz.csv').dropna()"
   ]
  },
  {
   "cell_type": "markdown",
   "metadata": {},
   "source": [
    "# Test and Train Data"
   ]
  },
  {
   "cell_type": "code",
   "execution_count": 125,
   "metadata": {},
   "outputs": [],
   "source": [
    "X_train, y_train = [], []\n",
    "X_test, y_test = [], []\n",
    "\n",
    "#data = cdata.sample(frac=1)\n",
    "\n",
    "X = data[data.columns[0:10]]\n",
    "y = data[data.columns[10]]\n",
    "\n",
    "#for _ in range(0,100):\n",
    "#X_train, X_test, y_train, y_test = train_test_split(X, y, )"
   ]
  },
  {
   "cell_type": "markdown",
   "metadata": {},
   "source": [
    "# Random Forest"
   ]
  },
  {
   "cell_type": "code",
   "execution_count": 111,
   "metadata": {},
   "outputs": [
    {
     "name": "stdout",
     "output_type": "stream",
     "text": [
      "Training Error: 0.8856304985337243 (0.0)\n",
      "Testing Error: 0.7280701754385965 (0.0)\n"
     ]
    },
    {
     "data": {
      "image/png": "[encoded data removed]",
      "text/plain": [
       "<Figure size 432x288 with 2 Axes>"
      ]
     },
     "metadata": {},
     "output_type": "display_data"
    }
   ],
   "source": [
    "train_accuracy, test_accuracy = [], []\n",
    "\n",
    "clf = RandomForestClassifier(max_depth=5, max_features=None)    \n",
    "scores = cross_val_score(clf, X, y, cv=5)\n",
    "   \n",
    "    clf.fit(X_train[i], y_train[i])\n",
    "    \n",
    "    train_accuracy.append(clf.score(X_train[i], y_train[i]))\n",
    "    test_accuracy.append(clf.score(X_test[i], y_test[i]))\n",
    "    \n",
    "    y_pred_0 = clf.predict(X_train[i])\n",
    "    y_pred_1 = clf.predict(X_test[i])\n",
    "    \n",
    "    #con_0 = confusion_matrix(y_train[i], y_pred_0, labels=['American Folk', 'Classical', 'Jazz', 'Pop', 'Rock'])\n",
    "    #con_1 = confusion_matrix(y_test[i], y_pred_1, labels=['American Folk', 'Classical', 'Jazz', 'Pop', 'Rock'])\n",
    "    \n",
    "    con_0 = confusion_matrix(y_train[i], y_pred_0, labels=['Rock', 'Jazz'])\n",
    "    con_1 = confusion_matrix(y_test[i], y_pred_1, labels=['Rock', 'Jazz'])\n",
    "    \n",
    "    sns.heatmap(con_1, annot=True, cmap=sns.cubehelix_palette(light=1, as_cmap=True))\n",
    "    \n",
    "print('Training Error: {} ({})'.format(np.mean(train_accuracy), np.std(train_accuracy)))\n",
    "print('Testing Error: {} ({})'.format(np.mean(test_accuracy), np.std(test_accuracy)))"
   ]
  },
  {
   "cell_type": "markdown",
   "metadata": {},
   "source": [
    "# AdaBoost"
   ]
  },
  {
   "cell_type": "code",
   "execution_count": 113,
   "metadata": {
    "scrolled": true
   },
   "outputs": [
    {
     "name": "stdout",
     "output_type": "stream",
     "text": [
      "Training Accuracy: \t 0.8563049853372434 (0.0)\n",
      "Testing Accuracy: \t 0.7017543859649122 (0.0)\n"
     ]
    },
    {
     "data": {
      "image/png": "[encoded data removed]",
      "text/plain": [
       "<Figure size 432x288 with 2 Axes>"
      ]
     },
     "metadata": {},
     "output_type": "display_data"
    }
   ],
   "source": [
    "train_accuracy, test_accuracy = [], []\n",
    "\n",
    "for i in range(0, len(X_train)):\n",
    "    clf = AdaBoostClassifier()\n",
    "    clf.fit(X_train[i], y_train[i])\n",
    "    \n",
    "    train_accuracy.append(clf.score(X_train[i], y_train[i]))\n",
    "    test_accuracy.append(clf.score(X_test[i], y_test[i]))\n",
    "    \n",
    "    y_pred_0 = clf.predict(X_train[i])\n",
    "    y_pred_1 = clf.predict(X_test[i])\n",
    "    \n",
    "    #con_0 = confusion_matrix(y_train[i], y_pred_0, labels=['American Folk', 'Classical', 'Jazz', 'Pop', 'Rock'])\n",
    "    #con_1 = confusion_matrix(y_test[i], y_pred_1, labels=['American Folk', 'Classical', 'Jazz', 'Pop', 'Rock'])\n",
    "    \n",
    "    con_0 = confusion_matrix(y_train[i], y_pred_0, labels=['Rock', 'Jazz'])\n",
    "    con_1 = confusion_matrix(y_test[i], y_pred_1, labels=['Rock', 'Jazz'])\n",
    "    \n",
    "    sns.heatmap(con_1, annot=True, cmap=sns.cubehelix_palette(light=1, as_cmap=True))\n",
    "    \n",
    "print('Training Accuracy: \\t {} ({})'.format(np.mean(train_accuracy), np.std(train_accuracy)))\n",
    "print('Testing Accuracy: \\t {} ({})'.format(np.mean(test_accuracy), np.std(test_accuracy)))"
   ]
  },
  {
   "cell_type": "markdown",
   "metadata": {},
   "source": [
    "# SVM"
   ]
  },
  {
   "cell_type": "code",
   "execution_count": 115,
   "metadata": {
    "scrolled": false
   },
   "outputs": [
    {
     "name": "stdout",
     "output_type": "stream",
     "text": [
      "Training Accuracy: \t 0.9648093841642229 (0.0)\n",
      "Testing Accuracy: \t 0.6228070175438597 (0.0)\n"
     ]
    },
    {
     "data": {
      "image/png": "[encoded data removed]",
      "text/plain": [
       "<Figure size 432x288 with 2 Axes>"
      ]
     },
     "metadata": {},
     "output_type": "display_data"
    }
   ],
   "source": [
    "train_accuracy, test_accuracy = [], []\n",
    "\n",
    "for i in range(0, len(X_train)):\n",
    "    clf = svm.SVC(kernel='rbf',probability=False)\n",
    "    clf.fit(X_train[i], y_train[i])\n",
    "    \n",
    "    train_accuracy.append(clf.score(X_train[i], y_train[i]))\n",
    "    test_accuracy.append(clf.score(X_test[i], y_test[i]))\n",
    "    \n",
    "    y_pred_0 = clf.predict(X_train[i])\n",
    "    y_pred_1 = clf.predict(X_test[i])\n",
    "    \n",
    "    #con_0 = confusion_matrix(y_train[i], y_pred_0, labels=['American Folk', 'Classical'])\n",
    "    #con_1 = confusion_matrix(y_test[i], y_pred_1, labels=['American Folk', 'Classical'])\n",
    "    \n",
    "    con_0 = confusion_matrix(y_train[i], y_pred_0, labels=['Rock', 'Jazz'])\n",
    "    con_1 = confusion_matrix(y_test[i], y_pred_1, labels=['Rock', 'Jazz'])\n",
    "    \n",
    "    sns.heatmap(con_1, annot=True, cmap=sns.cubehelix_palette(light=1, as_cmap=True))\n",
    "    \n",
    "print('Training Accuracy: \\t {} ({})'.format(np.mean(train_accuracy), np.std(train_accuracy)))\n",
    "print('Testing Accuracy: \\t {} ({})'.format(np.mean(test_accuracy), np.std(test_accuracy)))"
   ]
  },
  {
   "cell_type": "markdown",
   "metadata": {},
   "source": [
    "# Neural Network"
   ]
  },
  {
   "cell_type": "code",
   "execution_count": 126,
   "metadata": {},
   "outputs": [
    {
     "name": "stdout",
     "output_type": "stream",
     "text": [
      "Training Accuracy: \t 0.6116129032258065 (0.09379243577949795)\n",
      "Testing Accuracy: \t 0.6020175438596491 (0.1021819134130268)\n"
     ]
    }
   ],
   "source": [
    "train_accuracy, test_accuracy = [], []\n",
    "\n",
    "for i in range(0, len(X_train)):\n",
    "    clf = clf = MLPClassifier(solver='sgd', activation='relu', alpha=0.0001, hidden_layer_sizes=(10, 5),\\\n",
    "                              learning_rate_init = 0.001, max_iter=2000)\n",
    "    clf.fit(X_train[i], y_train[i])\n",
    "    \n",
    "    train_accuracy.append(clf.score(X_train[i], y_train[i]))\n",
    "    test_accuracy.append(clf.score(X_test[i], y_test[i]))\n",
    "    \n",
    "    y_pred_0 = clf.predict(X_train[i])\n",
    "    y_pred_1 = clf.predict(X_test[i])\n",
    "    \n",
    "    #con_0 = confusion_matrix(y_train[i], y_pred_0, labels=['American Folk', 'Classical'])\n",
    "    #con_1 = confusion_matrix(y_test[i], y_pred_1, labels=['American Folk', 'Classical'])\n",
    "    \n",
    "    con_0 = confusion_matrix(y_train[i], y_pred_0, labels=['Rock', 'Jazz'])\n",
    "    con_1 = confusion_matrix(y_test[i], y_pred_1, labels=['Rock', 'Jazz'])\n",
    "    \n",
    "    #sns.heatmap(con_1, annot=True, cmap=sns.cubehelix_palette(light=1, as_cmap=True))\n",
    "    \n",
    "print('Training Accuracy: \\t {} ({})'.format(np.mean(train_accuracy), np.std(train_accuracy)))\n",
    "print('Testing Accuracy: \\t {} ({})'.format(np.mean(test_accuracy), np.std(test_accuracy)))"
   ]
  },
  {
   "cell_type": "code",
   "execution_count": null,
   "metadata": {},
   "outputs": [],
   "source": []
  },
  {
   "cell_type": "markdown",
   "metadata": {},
   "source": [
    "## Number of Components vs Variation"
   ]
  },
  {
   "cell_type": "code",
   "execution_count": 59,
   "metadata": {
    "scrolled": false
   },
   "outputs": [
    {
     "data": {
      "text/plain": [
       "PCA(copy=True, iterated_power='auto', n_components=None, random_state=None,\n",
       "  svd_solver='auto', tol=0.0, whiten=False)"
      ]
     },
     "execution_count": 59,
     "metadata": {},
     "output_type": "execute_result"
    }
   ],
   "source": [
    "pca = PCA()\n",
    "pca.fit(X)"
   ]
  },
  {
   "cell_type": "code",
   "execution_count": 37,
   "metadata": {
    "scrolled": false
   },
   "outputs": [
    {
     "name": "stdout",
     "output_type": "stream",
     "text": [
      "[5.86866960e-01 2.73633404e-01 7.86054545e-02 3.62358292e-02\n",
      " 1.06750067e-02 8.14013262e-03 4.84791690e-03 6.21116510e-04\n",
      " 3.21879279e-04 5.23003350e-05]\n"
     ]
    }
   ],
   "source": [
    "print(pca.explained_variance_ratio_ )"
   ]
  },
  {
   "cell_type": "code",
   "execution_count": 38,
   "metadata": {
    "scrolled": false
   },
   "outputs": [
    {
     "data": {
      "text/plain": [
       "<matplotlib.axes._subplots.AxesSubplot at 0x112ccb5f8>"
      ]
     },
     "execution_count": 38,
     "metadata": {},
     "output_type": "execute_result"
    },
    {
     "data": {
      "image/png": "[encoded data removed]",
      "text/plain": [
       "<Figure size 432x288 with 1 Axes>"
      ]
     },
     "metadata": {},
     "output_type": "display_data"
    }
   ],
   "source": [
    "X_p = pca.transform(X)\n",
    "X_p = np.transpose(X_p)\n",
    "y_p = np.transpose(y)\n",
    "\n",
    "#color = {'American Folk': 'red', 'Classical': 'green', 'Rock': 'blue', 'Jazz': 'yellow', 'Pop': 'purple'}\n",
    "color = {'American Folk': 'red', 'Classical': 'green'}\n",
    "\n",
    "y_color = [color[i] for i in y_p]\n",
    "\n",
    "sns.regplot(x=X_p[0], y=X_p[1], fit_reg=False, scatter_kws={\"color\": y_color})"
   ]
  },
  {
   "cell_type": "code",
   "execution_count": null,
   "metadata": {},
   "outputs": [],
   "source": []
  }
 ],
 "metadata": {
  "kernelspec": {
   "display_name": "Python 3",
   "language": "python",
   "name": "python3"
  },
  "language_info": {
   "codemirror_mode": {
    "name": "ipython",
    "version": 3
   },
   "file_extension": ".py",
   "mimetype": "text/x-python",
   "name": "python",
   "nbconvert_exporter": "python",
   "pygments_lexer": "ipython3",
   "version": "3.6.1"
  }
 },
 "nbformat": 4,
 "nbformat_minor": 2
}
