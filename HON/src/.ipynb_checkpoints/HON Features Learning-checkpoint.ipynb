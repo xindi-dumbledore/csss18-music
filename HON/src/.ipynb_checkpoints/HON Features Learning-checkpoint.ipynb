{
 "cells": [
  {
   "cell_type": "code",
   "execution_count": 69,
   "metadata": {},
   "outputs": [],
   "source": [
    "from sklearn.ensemble import RandomForestClassifier\n",
    "from sklearn.ensemble import AdaBoostClassifier\n",
    "import pandas as pd\n",
    "from pprint import pprint\n",
    "from sklearn.decomposition import PCA\n",
    "import random\n",
    "import numpy as np\n",
    "from sklearn.metrics.cluster import normalized_mutual_info_score\n",
    "from sklearn import svm\n",
    "from sklearn.metrics import confusion_matrix"
   ]
  },
  {
   "cell_type": "markdown",
   "metadata": {},
   "source": [
    "# Data"
   ]
  },
  {
   "cell_type": "code",
   "execution_count": 70,
   "metadata": {},
   "outputs": [],
   "source": [
    "cdata = pd.read_csv('../features/features_sample.csv')"
   ]
  },
  {
   "cell_type": "markdown",
   "metadata": {},
   "source": [
    "# Test and Train Data"
   ]
  },
  {
   "cell_type": "code",
   "execution_count": 71,
   "metadata": {},
   "outputs": [],
   "source": [
    "X_train, y_train = [], []\n",
    "X_test, y_test = [], []\n",
    "\n",
    "for _ in range(0,1):\n",
    "    data = cdata.sample(frac=1)\n",
    "\n",
    "    X = data[data.columns[0:10]]\n",
    "    y = data[data.columns[10]]\n",
    "\n",
    "    X_train.append(X[0:int(0.75*len(X))])\n",
    "    y_train.append(y[0:int(0.75*len(y))])\n",
    "\n",
    "    X_test.append(X[int(0.75*len(X)):])\n",
    "    y_test.append(y[int(0.75*len(X)):])"
   ]
  },
  {
   "cell_type": "markdown",
   "metadata": {},
   "source": [
    "# Random Forest"
   ]
  },
  {
   "cell_type": "code",
   "execution_count": 72,
   "metadata": {},
   "outputs": [
    {
     "ename": "SyntaxError",
     "evalue": "invalid syntax (<ipython-input-72-f373d5294362>, line 12)",
     "output_type": "error",
     "traceback": [
      "\u001b[0;36m  File \u001b[0;32m\"<ipython-input-72-f373d5294362>\"\u001b[0;36m, line \u001b[0;32m12\u001b[0m\n\u001b[0;31m    print(confusion_matrix(y_test[i], y_pred, ,))\u001b[0m\n\u001b[0m                                              ^\u001b[0m\n\u001b[0;31mSyntaxError\u001b[0m\u001b[0;31m:\u001b[0m invalid syntax\n"
     ]
    }
   ],
   "source": [
    "train_accuracy, test_accuracy = [], []\n",
    "\n",
    "for i in range(0, len(X_train)):\n",
    "    clf = RandomForestClassifier(max_depth=5)\n",
    "    clf.fit(X_train[i], y_train[i])\n",
    "    \n",
    "    train_accuracy.append(clf.score(X_train[i], y_train[i]))\n",
    "    test_accuracy.append(clf.score(X_test[i], y_test[i]))\n",
    "    \n",
    "    y_pred = clf.predict(X_test[i])\n",
    "    \n",
    "    print(confusion_matrix(y_test[i], y_pred, labels=['American Folk', 'Classical', 'Jazz', 'Pop', 'Rock']))\n",
    "    \n",
    "print('Training Error: {} ({})'.format(np.mean(train_accuracy), np.std(train_accuracy)))\n",
    "print('Testing Error: {} ({})'.format(np.mean(test_accuracy), np.std(test_accuracy)))"
   ]
  },
  {
   "cell_type": "markdown",
   "metadata": {},
   "source": [
    "# AdaBoost"
   ]
  },
  {
   "cell_type": "code",
   "execution_count": 68,
   "metadata": {},
   "outputs": [
    {
     "name": "stdout",
     "output_type": "stream",
     "text": [
      "[[3 2 0 1 1]\n",
      " [1 7 2 0 0]\n",
      " [0 2 2 0 0]\n",
      " [0 2 0 0 0]\n",
      " [1 2 1 1 0]]\n",
      "Training Accuracy: \t 0.4691358024691358 (0.0)\n",
      "Testing Accuracy: \t 0.35714285714285715 (0.0)\n"
     ]
    }
   ],
   "source": [
    "train_accuracy, test_accuracy = [], []\n",
    "\n",
    "for i in range(0, len(X_train)):\n",
    "    clf = AdaBoostClassifier()\n",
    "    clf.fit(X_train[i], y_train[i])\n",
    "    \n",
    "    train_accuracy.append(clf.score(X_train[i], y_train[i]))\n",
    "    test_accuracy.append(clf.score(X_test[i], y_test[i]))\n",
    "    \n",
    "    print(confusion_matrix(y_test[i], y_pred, labels=['American Folk', 'Classical', 'Jazz', 'Pop', 'Rock']))\n",
    "    \n",
    "print('Training Accuracy: \\t {} ({})'.format(np.mean(train_accuracy), np.std(train_accuracy)))\n",
    "print('Testing Accuracy: \\t {} ({})'.format(np.mean(test_accuracy), np.std(test_accuracy)))"
   ]
  },
  {
   "cell_type": "markdown",
   "metadata": {},
   "source": [
    "# SVM"
   ]
  },
  {
   "cell_type": "code",
   "execution_count": 67,
   "metadata": {},
   "outputs": [
    {
     "name": "stdout",
     "output_type": "stream",
     "text": [
      "[[3 2 0 1 1]\n",
      " [1 7 2 0 0]\n",
      " [0 2 2 0 0]\n",
      " [0 2 0 0 0]\n",
      " [1 2 1 1 0]]\n",
      "Training Accuracy: \t 0.8148148148148148 (0.0)\n",
      "Testing Accuracy: \t 0.32142857142857145 (0.0)\n"
     ]
    }
   ],
   "source": [
    "train_accuracy, test_accuracy = [], []\n",
    "\n",
    "for i in range(0, len(X_train)):\n",
    "    clf = svm.SVC(kernel='rbf',probability=False)\n",
    "    clf.fit(X_train[i], y_train[i])\n",
    "    \n",
    "    train_accuracy.append(clf.score(X_train[i], y_train[i]))\n",
    "    test_accuracy.append(clf.score(X_test[i], y_test[i]))\n",
    "    \n",
    "    #print(clf.decision_function(X_test[i]))\n",
    "    print(confusion_matrix(y_test[i], y_pred, labels=['American Folk', 'Classical', 'Jazz', 'Pop', 'Rock']))\n",
    "    \n",
    "print('Training Accuracy: \\t {} ({})'.format(np.mean(train_accuracy), np.std(train_accuracy)))\n",
    "print('Testing Accuracy: \\t {} ({})'.format(np.mean(test_accuracy), np.std(test_accuracy)))"
   ]
  },
  {
   "cell_type": "markdown",
   "metadata": {},
   "source": [
    "## Number of Components vs Variation"
   ]
  },
  {
   "cell_type": "code",
   "execution_count": null,
   "metadata": {},
   "outputs": [],
   "source": []
  },
  {
   "cell_type": "code",
   "execution_count": null,
   "metadata": {},
   "outputs": [],
   "source": []
  },
  {
   "cell_type": "code",
   "execution_count": null,
   "metadata": {},
   "outputs": [],
   "source": []
  }
 ],
 "metadata": {
  "kernelspec": {
   "display_name": "Python 3",
   "language": "python",
   "name": "python3"
  },
  "language_info": {
   "codemirror_mode": {
    "name": "ipython",
    "version": 3
   },
   "file_extension": ".py",
   "mimetype": "text/x-python",
   "name": "python",
   "nbconvert_exporter": "python",
   "pygments_lexer": "ipython3",
   "version": "3.6.1"
  }
 },
 "nbformat": 4,
 "nbformat_minor": 2
}
