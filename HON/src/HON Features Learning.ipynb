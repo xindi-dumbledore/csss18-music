{
 "cells": [
  {
   "cell_type": "code",
   "execution_count": 117,
   "metadata": {},
   "outputs": [],
   "source": [
    "from sklearn.ensemble import RandomForestClassifier\n",
    "from sklearn.ensemble import AdaBoostClassifier\n",
    "import pandas as pd\n",
    "from pprint import pprint\n",
    "from sklearn.decomposition import PCA\n",
    "import random\n",
    "import numpy as np\n",
    "from sklearn.metrics.cluster import normalized_mutual_info_score\n",
    "from sklearn import svm\n",
    "from sklearn.metrics import confusion_matrix\n",
    "import seaborn as sns"
   ]
  },
  {
   "cell_type": "markdown",
   "metadata": {},
   "source": [
    "# Data"
   ]
  },
  {
   "cell_type": "code",
   "execution_count": 107,
   "metadata": {},
   "outputs": [],
   "source": [
    "cdata = pd.read_csv('../features/features_sample.csv')"
   ]
  },
  {
   "cell_type": "markdown",
   "metadata": {},
   "source": [
    "# Test and Train Data"
   ]
  },
  {
   "cell_type": "code",
   "execution_count": 108,
   "metadata": {},
   "outputs": [],
   "source": [
    "X_train, y_train = [], []\n",
    "X_test, y_test = [], []\n",
    "\n",
    "for _ in range(0,1):\n",
    "    data = cdata.sample(frac=1)\n",
    "\n",
    "    X = data[data.columns[0:10]]\n",
    "    y = data[data.columns[10]]\n",
    "\n",
    "    X_train.append(X[0:int(0.75*len(X))])\n",
    "    y_train.append(y[0:int(0.75*len(y))])\n",
    "\n",
    "    X_test.append(X[int(0.75*len(X)):])\n",
    "    y_test.append(y[int(0.75*len(X)):])"
   ]
  },
  {
   "cell_type": "markdown",
   "metadata": {},
   "source": [
    "# Random Forest"
   ]
  },
  {
   "cell_type": "code",
   "execution_count": 124,
   "metadata": {},
   "outputs": [
    {
     "name": "stdout",
     "output_type": "stream",
     "text": [
      "Training Error: 0.9642857142857143 (0.0)\n",
      "Testing Error: 0.42105263157894735 (0.0)\n"
     ]
    },
    {
     "data": {
      "image/png": "[encoded data removed]",
      "text/plain": [
       "<Figure size 432x288 with 2 Axes>"
      ]
     },
     "metadata": {},
     "output_type": "display_data"
    }
   ],
   "source": [
    "train_accuracy, test_accuracy = [], []\n",
    "\n",
    "for i in range(0, len(X_train)):\n",
    "    clf = RandomForestClassifier(max_depth=5, max_features=None)\n",
    "    clf.fit(X_train[i], y_train[i])\n",
    "    \n",
    "    train_accuracy.append(clf.score(X_train[i], y_train[i]))\n",
    "    test_accuracy.append(clf.score(X_test[i], y_test[i]))\n",
    "    \n",
    "    y_pred_0 = clf.predict(X_train[i])\n",
    "    y_pred_1 = clf.predict(X_test[i])\n",
    "    \n",
    "    con_0 = confusion_matrix(y_train[i], y_pred_0, labels=['American Folk', 'Classical', 'Jazz', 'Pop', 'Rock'])\n",
    "    con_1 = confusion_matrix(y_test[i], y_pred_1, labels=['American Folk', 'Classical', 'Jazz', 'Pop', 'Rock'])\n",
    "    \n",
    "    sns.heatmap(con_1)\n",
    "    \n",
    "print('Training Error: {} ({})'.format(np.mean(train_accuracy), np.std(train_accuracy)))\n",
    "print('Testing Error: {} ({})'.format(np.mean(test_accuracy), np.std(test_accuracy)))"
   ]
  },
  {
   "cell_type": "markdown",
   "metadata": {},
   "source": [
    "# AdaBoost"
   ]
  },
  {
   "cell_type": "code",
   "execution_count": 125,
   "metadata": {},
   "outputs": [
    {
     "name": "stdout",
     "output_type": "stream",
     "text": [
      "Training Accuracy: \t 0.5357142857142857 (0.0)\n",
      "Testing Accuracy: \t 0.2631578947368421 (0.0)\n"
     ]
    },
    {
     "data": {
      "image/png": "[encoded data removed]",
      "text/plain": [
       "<Figure size 432x288 with 2 Axes>"
      ]
     },
     "metadata": {},
     "output_type": "display_data"
    }
   ],
   "source": [
    "train_accuracy, test_accuracy = [], []\n",
    "\n",
    "for i in range(0, len(X_train)):\n",
    "    clf = AdaBoostClassifier()\n",
    "    clf.fit(X_train[i], y_train[i])\n",
    "    \n",
    "    train_accuracy.append(clf.score(X_train[i], y_train[i]))\n",
    "    test_accuracy.append(clf.score(X_test[i], y_test[i]))\n",
    "    \n",
    "    y_pred_0 = clf.predict(X_train[i])\n",
    "    y_pred_1 = clf.predict(X_test[i])\n",
    "    \n",
    "    con_0 = confusion_matrix(y_train[i], y_pred_0, labels=['American Folk', 'Classical', 'Jazz', 'Pop', 'Rock'])\n",
    "    con_1 = confusion_matrix(y_test[i], y_pred_1, labels=['American Folk', 'Classical', 'Jazz', 'Pop', 'Rock'])\n",
    "    \n",
    "    sns.heatmap(con_1)\n",
    "    \n",
    "print('Training Accuracy: \\t {} ({})'.format(np.mean(train_accuracy), np.std(train_accuracy)))\n",
    "print('Testing Accuracy: \\t {} ({})'.format(np.mean(test_accuracy), np.std(test_accuracy)))"
   ]
  },
  {
   "cell_type": "markdown",
   "metadata": {},
   "source": [
    "# SVM"
   ]
  },
  {
   "cell_type": "code",
   "execution_count": 128,
   "metadata": {},
   "outputs": [
    {
     "name": "stdout",
     "output_type": "stream",
     "text": [
      "Training Accuracy: \t 0.9821428571428571 (0.0)\n",
      "Testing Accuracy: \t 0.3684210526315789 (0.0)\n"
     ]
    },
    {
     "data": {
      "image/png": "[encoded data removed]",
      "text/plain": [
       "<Figure size 432x288 with 2 Axes>"
      ]
     },
     "metadata": {},
     "output_type": "display_data"
    }
   ],
   "source": [
    "train_accuracy, test_accuracy = [], []\n",
    "\n",
    "for i in range(0, len(X_train)):\n",
    "    clf = svm.SVC(kernel='poly',probability=False)\n",
    "    clf.fit(X_train[i], y_train[i])\n",
    "    \n",
    "    train_accuracy.append(clf.score(X_train[i], y_train[i]))\n",
    "    test_accuracy.append(clf.score(X_test[i], y_test[i]))\n",
    "    \n",
    "    y_pred_0 = clf.predict(X_train[i])\n",
    "    y_pred_1 = clf.predict(X_test[i])\n",
    "    \n",
    "    con_0 = confusion_matrix(y_train[i], y_pred_0, labels=['American Folk', 'Classical', 'Jazz', 'Pop', 'Rock'])\n",
    "    con_1 = confusion_matrix(y_test[i], y_pred_1, labels=['American Folk', 'Classical', 'Jazz', 'Pop', 'Rock'])\n",
    "    \n",
    "    sns.heatmap(con_1)\n",
    "    \n",
    "print('Training Accuracy: \\t {} ({})'.format(np.mean(train_accuracy), np.std(train_accuracy)))\n",
    "print('Testing Accuracy: \\t {} ({})'.format(np.mean(test_accuracy), np.std(test_accuracy)))"
   ]
  },
  {
   "cell_type": "markdown",
   "metadata": {},
   "source": [
    "## Number of Components vs Variation"
   ]
  },
  {
   "cell_type": "code",
   "execution_count": null,
   "metadata": {},
   "outputs": [],
   "source": []
  },
  {
   "cell_type": "code",
   "execution_count": null,
   "metadata": {},
   "outputs": [],
   "source": []
  },
  {
   "cell_type": "code",
   "execution_count": null,
   "metadata": {},
   "outputs": [],
   "source": []
  }
 ],
 "metadata": {
  "kernelspec": {
   "display_name": "Python 3",
   "language": "python",
   "name": "python3"
  },
  "language_info": {
   "codemirror_mode": {
    "name": "ipython",
    "version": 3
   },
   "file_extension": ".py",
   "mimetype": "text/x-python",
   "name": "python",
   "nbconvert_exporter": "python",
   "pygments_lexer": "ipython3",
   "version": "3.6.1"
  }
 },
 "nbformat": 4,
 "nbformat_minor": 2
}
